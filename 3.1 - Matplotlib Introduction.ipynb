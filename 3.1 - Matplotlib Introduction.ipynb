{
 "cells": [
  {
   "cell_type": "code",
   "execution_count": null,
   "metadata": {},
   "outputs": [],
   "source": [
    "# basic matplotlib!\n",
    "import matplotlib.pyplot as plt\n",
    "\n",
    "plt.plot([1,2,3,4])\n",
    "plt.ylabel('some numbers')\n",
    "plt.show()"
   ]
  },
  {
   "cell_type": "markdown",
   "metadata": {},
   "source": []
  },
  {
   "cell_type": "code",
   "execution_count": null,
   "metadata": {},
   "outputs": [],
   "source": [
    "# line graph with x and y values\n",
    "import matplotlib.pyplot as plt\n",
    "\n",
    "plt.plot([1, 2, 3, 4], [1, 4, 9, 16])\n",
    "plt.ylabel('some numbers')\n",
    "plt.show()\n"
   ]
  },
  {
   "cell_type": "code",
   "execution_count": null,
   "metadata": {},
   "outputs": [],
   "source": [
    "# Plot line graph with numpy array\n",
    "import numpy as np\n",
    "import matplotlib.pyplot as plt\n",
    "\n",
    "hoursA = np.array([0,1,2,3,4,5,6])\n",
    "marksA = np.array([55,62,70,71,75,76,77])\n",
    "\n",
    "plt.plot(hoursA, marksA)\n",
    "plt.show()"
   ]
  },
  {
   "cell_type": "markdown",
   "metadata": {},
   "source": [
    "#### Adding Titles and Labels\n",
    "```xlabel()\n",
    "ylabel()\n",
    "title()```"
   ]
  },
  {
   "cell_type": "code",
   "execution_count": null,
   "metadata": {
    "scrolled": false
   },
   "outputs": [],
   "source": [
    "# Plot line graph with numpy array\n",
    "# Includes description\"\n",
    "import numpy as np\n",
    "import matplotlib.pyplot as plt\n",
    "\n",
    "hoursA = np.array([0,1,2,3,4,5,6])\n",
    "marksA = np.array([55,62,70,71,75,76,77])\n",
    "\n",
    "plt.plot(hoursA, marksA)\n",
    "plt.title(\"Relationship between hours studied and marks\")\n",
    "plt.xlabel(\"Hours spent studying\")\n",
    "plt.ylabel(\"marks\")\n",
    "plt.show()"
   ]
  },
  {
   "cell_type": "code",
   "execution_count": null,
   "metadata": {},
   "outputs": [],
   "source": [
    "# Plot line graph with numpy array\n",
    "# Adding legend\n",
    "import numpy as np\n",
    "import matplotlib.pyplot as plt\n",
    "\n",
    "hoursA = np.array([0,1,2,3,4,5,6])\n",
    "marksA = np.array([55,62,70,71,75,76,77])\n",
    "\n",
    "plt.plot(hoursA, marksA, label = \"Class A\")\n",
    "plt.title(\"Relationship between hours studied and marks\")\n",
    "plt.xlabel(\"Hours spent studying\")\n",
    "plt.ylabel(\"marks\")\n",
    "plt.legend(loc=\"best\")\n",
    "plt.show()"
   ]
  },
  {
   "cell_type": "markdown",
   "metadata": {},
   "source": [
    "#### Specifiying axis start and legend position\n",
    "Well, if marks don't start at 50 and end at 80. We might want to include the lower and upper bounds, even if no one has them.<br>\n",
    "Using ```xlim()``` and ```ylim()```, we can explicitly declare the limits."
   ]
  },
  {
   "cell_type": "code",
   "execution_count": null,
   "metadata": {},
   "outputs": [],
   "source": [
    "# Plot line graph with numpy array\n",
    "# Specifying legend\n",
    "import numpy as np\n",
    "import matplotlib.pyplot as plt\n",
    "\n",
    "hoursA = np.array([0,1,2,3,4,5,6])\n",
    "marksA = np.array([55,62,70,71,75,76,77])\n",
    "\n",
    "plt.plot(hoursA, marksA, label = \"Class A\")\n",
    "\n",
    "# Describe your data\n",
    "plt.title(\"Relationship between hours studied and marks\")\n",
    "plt.xlabel(\"Hours spent studying\")\n",
    "plt.ylabel(\"Marks\")\n",
    "plt.legend(loc=\"best\") \n",
    "\n",
    "# Specify the limits (aka bounds) of the x  and yaxis\n",
    "plt.xlim(0,10)  \n",
    "plt.ylim(0,100)\n",
    "\n",
    "plt.show()"
   ]
  },
  {
   "cell_type": "markdown",
   "metadata": {},
   "source": [
    "#### "
   ]
  },
  {
   "cell_type": "code",
   "execution_count": null,
   "metadata": {},
   "outputs": [],
   "source": [
    "# Plot line graph with numpy array\n",
    "# Specifying legend\n",
    "import numpy as np\n",
    "import matplotlib.pyplot as plt\n",
    "\n",
    "hoursA = np.array([0,1,2,3,4,5,6])\n",
    "marksA = np.array([55,62,70,71,75,76,77])\n",
    "\n",
    "plt.plot(hoursA, marksA, label = \"Class A\")\n",
    "plt.title(\"Relationship between hours studied and marks\")\n",
    "plt.xlabel(\"Hours spent studying\")\n",
    "plt.ylabel(\"Marks\")\n",
    "plt.legend(loc=\"best\")\n",
    "\n",
    "plt.xlim(0,10)\n",
    "plt.ylim(0,100)\n",
    "\n",
    "#plt.text(6,70, \"Class A\")\n",
    "plt.text(hoursA[-1], marksA[-1]-10, \"Class A\")\n",
    "\n",
    "plt.show()"
   ]
  },
  {
   "cell_type": "markdown",
   "metadata": {},
   "source": [
    "#### Specifying the tick on axis\n",
    "(Each number on an axis is called a tick)<br>\n",
    "You may have noticed that the hours being noticed are listed in 2's"
   ]
  },
  {
   "cell_type": "code",
   "execution_count": 93,
   "metadata": {},
   "outputs": [
    {
     "data": {
      "image/png": "[encoded data removed]",
      "text/plain": [
       "<Figure size 432x288 with 1 Axes>"
      ]
     },
     "metadata": {
      "needs_background": "light"
     },
     "output_type": "display_data"
    }
   ],
   "source": [
    "# Plot line graph with numpy array\n",
    "# Specifying\n",
    "import numpy as np\n",
    "import matplotlib.pyplot as plt\n",
    "\n",
    "hoursA = np.array([0,1,2,3,4,5,6])\n",
    "marksA = np.array([55,62,70,71,75,76,77])\n",
    "\n",
    "plt.plot(hoursA, marksA, label = \"Class A\")\n",
    "plt.title(\"Relationship between hours studied and marks\")\n",
    "plt.xlabel(\"Hours spent studying\")\n",
    "plt.ylabel(\"Marks\")\n",
    "plt.legend(loc=\"best\")\n",
    "plt.xlim(0,10)\n",
    "plt.ylim(0,100)\n",
    "\n",
    "plt.xticks([0,1,2,3,3.4,4,5,6])\n",
    "#plt.yticks(0)\n",
    "\n",
    "plt.show()"
   ]
  },
  {
   "cell_type": "code",
   "execution_count": 97,
   "metadata": {},
   "outputs": [
    {
     "data": {
      "image/png": "[encoded data removed]",
      "text/plain": [
       "<Figure size 432x288 with 1 Axes>"
      ]
     },
     "metadata": {
      "needs_background": "light"
     },
     "output_type": "display_data"
    }
   ],
   "source": [
    "import numpy as np\n",
    "import matplotlib.pyplot as plt\n",
    "\n",
    "y = [70,30,40,90,10]\n",
    "xlabels = ('Tom', 'Dick', 'Harry', 'Sally', 'Sue')\n",
    "plt.xticks(np.arange(5),xlabels)\n",
    "plt.ylim(0,100)\n",
    "plt.bar(xlabels,y)\n",
    "\n",
    "plt.show()\n"
   ]
  },
  {
   "cell_type": "code",
   "execution_count": 8,
   "metadata": {},
   "outputs": [
    {
     "name": "stdout",
     "output_type": "stream",
     "text": [
      "data being passed into xtick: [ 0  1  2  3  4  5  6  7  8  9 10]\n"
     ]
    },
    {
     "data": {
      "image/png": "[encoded data removed]",
      "text/plain": [
       "<Figure size 432x288 with 1 Axes>"
      ]
     },
     "metadata": {
      "needs_background": "light"
     },
     "output_type": "display_data"
    }
   ],
   "source": [
    "# Plot line graph with numpy array\n",
    "# Specifying\n",
    "import numpy as np\n",
    "import matplotlib.pyplot as plt\n",
    "\n",
    "hoursA = np.array([0,1,2,3,4,5,6])\n",
    "marksA = np.array([55,62,70,71,75,76,77])\n",
    "\n",
    "plt.plot(hoursA, marksA, label = \"Class A\")\n",
    "plt.title(\"Relationship between hours studied and marks\")\n",
    "plt.xlabel(\"Hours spent studying\")\n",
    "plt.ylabel(\"Marks\")\n",
    "plt.legend(loc=\"best\")\n",
    "plt.xlim(0,10)\n",
    "plt.ylim(0,100)\n",
    "\n",
    "plt.xticks(np.arange(min(hoursA), np.max(hoursA)+5, 1) )\n",
    "print(f\"data being passed into xtick: {np.arange(min(hoursA), np.max(hoursA)+5, 1)}\")\n",
    "\n",
    "#plt.xticks(np.arange(min(hoursA), np.max(hoursA), 2) )\n",
    "\n",
    "plt.yticks(np.arange(0, 101, 10))\n",
    "plt.yticks([0,20,70,100])\n",
    "plt.text(hoursA[-1], marksA[-1]-10, \"Class A\")\n",
    "\n",
    "plt.show()"
   ]
  },
  {
   "cell_type": "markdown",
   "metadata": {},
   "source": [
    "### Spicing things up:  Plotting more data!\n",
    "Now that we know the basic specifiers, we can now try plotting against different lines!"
   ]
  },
  {
   "cell_type": "code",
   "execution_count": 9,
   "metadata": {},
   "outputs": [
    {
     "data": {
      "image/png": "[encoded data removed]",
      "text/plain": [
       "<Figure size 432x288 with 1 Axes>"
      ]
     },
     "metadata": {
      "needs_background": "light"
     },
     "output_type": "display_data"
    }
   ],
   "source": [
    "# Plot line graph with numpy array\n",
    "# Specifying\n",
    "import numpy as np\n",
    "import matplotlib.pyplot as plt\n",
    "\n",
    "hoursA = np.array([0,1,2,3,4,5,6])\n",
    "marksA = np.array([55,62,70,71,75,76,77])\n",
    "\n",
    "hoursB = np.array([0,1,2,3,4,7,8])\n",
    "marksB = np.array([44,51,70,73,77,86,92])\n",
    "\n",
    "plt.plot(hoursA, marksA, label = \"Class A\")\n",
    "plt.plot(hoursB, marksB, label = \"Class B\")\n",
    "\n",
    "plt.title(\"Relationship between hours studied and marks\")\n",
    "plt.xlabel(\"Hours spent studying\")\n",
    "plt.ylabel(\"Marks\")\n",
    "plt.legend(loc=\"best\")\n",
    "plt.xlim(0,10)\n",
    "plt.ylim(0,100)\n",
    "\n",
    "plt.xticks(np.arange(min(hoursA), np.max(hoursA)+5, 1) )\n",
    "\n",
    "#plt.xticks(np.arange(min(hoursA), np.max(hoursA), 2) )\n",
    "\n",
    "plt.yticks(np.arange(0, 101, 10))\n",
    "plt.yticks([0,20,70,100])\n",
    "plt.text(hoursA[-1], marksA[-1]-10, \"Class A\")\n",
    "plt.text(hoursB[-1], marksB[-1]-10, \"Class B\")\n",
    "\n",
    "plt.show()"
   ]
  },
  {
   "cell_type": "markdown",
   "metadata": {},
   "source": [
    "### Plastic Surgery: Specifying Colors and Patterns of data points\n",
    "It's not difficult to disagree with the automated stylistic choices of matplotlib. <br>Nerds suck at design. <br>\n",
    "In order to specify the cosmetic changes, merely enter them into the ```plot()``` <br>\n",
    "some style arguments for ```plot()```:"
   ]
  },
  {
   "cell_type": "code",
   "execution_count": 37,
   "metadata": {},
   "outputs": [
    {
     "data": {
      "image/png": "[encoded data removed]",
      "text/plain": [
       "<Figure size 432x288 with 1 Axes>"
      ]
     },
     "metadata": {
      "needs_background": "light"
     },
     "output_type": "display_data"
    }
   ],
   "source": [
    "# Plot line graph with numpy array\n",
    "# Specifying\n",
    "import numpy as np\n",
    "import matplotlib.pyplot as plt\n",
    "\n",
    "hoursA = np.array([0,1,2,3,4,5,6])\n",
    "marksA = np.array([55,62,70,71,75,76,77])\n",
    "\n",
    "hoursB = np.array([0,1,2,3,4,7,8])\n",
    "marksB = np.array([44,51,70,73,77,86,92])\n",
    "\n",
    "plt.plot(hoursA, marksA, color=\"#e93b81\", linestyle=\"-.\", label = \"Class A\")\n",
    "plt.plot(hoursB, marksB, color=\"#f5abc9\", linestyle=\"--\", linewidth = 2, label = \"Class B\")\n",
    "plt.legend()\n",
    "\n",
    "plt.xlim(0,10)\n",
    "plt.ylim(0,100)\n",
    "\n",
    "plt.xticks([0,1,2,3,4,5,6,7,8,9,10])\n",
    "\n",
    "plt.yticks(np.arange(0, 101, 10))\n",
    "plt.yticks([0,20,70,100])\n",
    "\n",
    "plt.show()"
   ]
  },
  {
   "cell_type": "code",
   "execution_count": 92,
   "metadata": {},
   "outputs": [
    {
     "data": {
      "image/png": "[encoded data removed]",
      "text/plain": [
       "<Figure size 432x288 with 1 Axes>"
      ]
     },
     "metadata": {
      "needs_background": "light"
     },
     "output_type": "display_data"
    }
   ],
   "source": [
    "# Class exercise\n",
    "import numpy as np\n",
    "import matplotlib.pyplot as plt\n",
    "\n",
    "x = np.arange(1, 10, 1)\n",
    "\n",
    "plt.plot(x, x**2, color = \"b\", linestyle=\"--\", marker=\"o\")\n",
    "\n",
    "plt.xlim(0.7, 10)\n",
    "plt.ylim(-5, 85)\n",
    "plt.xticks(np.arange(1, 10, 1))\n",
    "plt.yticks(np.arange(0, 81, 10))\n",
    "\n",
    "plt.title(\"The x**2 graph\")\n",
    "plt.xlabel(\"x-axis\")\n",
    "plt.ylabel(\"y-axis\")\n",
    "\n",
    "plt.show()\n"
   ]
  },
  {
   "cell_type": "code",
   "execution_count": 61,
   "metadata": {},
   "outputs": [
    {
     "data": {
      "image/png": "[encoded data removed]",
      "text/plain": [
       "<Figure size 432x288 with 1 Axes>"
      ]
     },
     "metadata": {
      "needs_background": "light"
     },
     "output_type": "display_data"
    }
   ],
   "source": [
    "import matplotlib.pyplot as plt\n",
    "\n",
    "plt.title('Grades vs Hours Studied')\n",
    "plt.xlabel('Hours Studied')\n",
    "plt.ylabel('Grades')\n",
    "\n",
    "plt.plot([5,10,30,40], [50,60,70,90])\n",
    "plt.show()\n"
   ]
  },
  {
   "cell_type": "code",
   "execution_count": null,
   "metadata": {},
   "outputs": [],
   "source": []
  }
 ],
 "metadata": {
  "kernelspec": {
   "display_name": "Python 3",
   "language": "python",
   "name": "python3"
  },
  "language_info": {
   "codemirror_mode": {
    "name": "ipython",
    "version": 3
   },
   "file_extension": ".py",
   "mimetype": "text/x-python",
   "name": "python",
   "nbconvert_exporter": "python",
   "pygments_lexer": "ipython3",
   "version": "3.8.5"
  }
 },
 "nbformat": 4,
 "nbformat_minor": 4
}

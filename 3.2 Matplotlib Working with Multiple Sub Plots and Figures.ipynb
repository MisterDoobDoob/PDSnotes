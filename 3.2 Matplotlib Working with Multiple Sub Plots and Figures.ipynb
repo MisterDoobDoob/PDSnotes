{
 "cells": [
  {
   "cell_type": "code",
   "execution_count": null,
   "id": "8d3e5b08",
   "metadata": {},
   "outputs": [],
   "source": [
    "### Subplots\n",
    "\n",
    "subplot(_ _ _)\n",
    "    row,col,order"
   ]
  },
  {
   "cell_type": "code",
   "execution_count": null,
   "id": "f43f05dd",
   "metadata": {},
   "outputs": [],
   "source": [
    "# 2 Figures in one chart\n",
    "# 4 subplots in one chart\n",
    "import numpy as np\n",
    "import matplotlib.pyplot as plt\n",
    "\n",
    "hoursA = np.array([0,1,2,3,4,5,6])\n",
    "marksA = np.array([55,62,70,71,75,76,77])\n",
    "\n",
    "hoursB = np.array([0,1,2,3,4,7,8])\n",
    "marksB = np.array([44,51,70,73,77,86,92])\n",
    "\n",
    "hoursC = np.array([0,1,2,3,4,7,8])\n",
    "marksC = np.array([20,55,71,73,77,83,88])\n",
    "\n",
    "hoursD = np.array([0,1,2,3,4,7,8])\n",
    "marksD = np.array([28,55,71,75,77,83,92])\n",
    "\n",
    "plt.figure(1)\n",
    "plt.subplot(121)\n",
    "plt.plot(hoursA,marksA)\n",
    "plt.title(\"Class A hours/marks\")\n",
    "\n",
    "#plt.figure(2)\n",
    "plt.subplot(122)\n",
    "plt.plot(hoursB,marksB)\n",
    "plt.title(\"Class B hours/marks\")\n",
    "\n",
    "\n",
    "plt.figure(3)\n",
    "plt.subplot(311)\n",
    "plt.plot(hoursC,marksC)\n",
    "plt.subplot(312)\n",
    "plt.plot(hoursD,marksD)\n",
    "plt.subplot(313)\n",
    "plt.plot(hoursA,marksA)\n",
    "\n",
    "plt.plot(hoursA,marksA)\n",
    "plt.show()\n",
    "\n",
    "\n",
    "plt.show()"
   ]
  }
 ],
 "metadata": {
  "kernelspec": {
   "display_name": "Python 3",
   "language": "python",
   "name": "python3"
  },
  "language_info": {
   "codemirror_mode": {
    "name": "ipython",
    "version": 3
   },
   "file_extension": ".py",
   "mimetype": "text/x-python",
   "name": "python",
   "nbconvert_exporter": "python",
   "pygments_lexer": "ipython3",
   "version": "3.8.5"
  }
 },
 "nbformat": 4,
 "nbformat_minor": 5
}

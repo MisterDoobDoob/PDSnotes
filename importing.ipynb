{
 "cells": [
  {
   "cell_type": "code",
   "execution_count": 80,
   "metadata": {},
   "outputs": [
    {
     "name": "stdout",
     "output_type": "stream",
     "text": [
      "pee\n"
     ]
    }
   ],
   "source": [
    "print(\"pee\")"
   ]
  },
  {
   "cell_type": "code",
   "execution_count": 1,
   "metadata": {},
   "outputs": [
    {
     "name": "stdout",
     "output_type": "stream",
     "text": [
      "my random integer is: 18\n",
      "random float is0.8778565522733718\n",
      "random float is0.5978412450475328\n"
     ]
    }
   ],
   "source": [
    "import random #imports the random module, to make random numbers\n",
    "\n",
    "mynum = random.randint(1,19)\n",
    "randomnum = random.random()\n",
    "print(f\"my random integer is: {mynum}\")\n",
    "print(f\"random float is{random.random()}\")\n",
    "print(f\"random float is{randomnum}\")\n"
   ]
  },
  {
   "cell_type": "code",
   "execution_count": 13,
   "metadata": {},
   "outputs": [
    {
     "name": "stdout",
     "output_type": "stream",
     "text": [
      "6\n"
     ]
    }
   ],
   "source": [
    "from random import randint #take randint from random, then no need to call random.randint\n",
    "mynum = randint(0,9)\n",
    "print(mynum)"
   ]
  },
  {
   "cell_type": "code",
   "execution_count": 30,
   "metadata": {},
   "outputs": [
    {
     "name": "stdout",
     "output_type": "stream",
     "text": [
      "388\n"
     ]
    }
   ],
   "source": [
    "from random import randint as randomnumber\n",
    "mynum = randomnumber(1,999)\n",
    "print(mynum)"
   ]
  },
  {
   "cell_type": "code",
   "execution_count": null,
   "metadata": {},
   "outputs": [],
   "source": [
    "from time import time\n",
    "\n",
    "print(\"enter your name in the quickest amount of time: \")\n",
    "start = time() #store current time\n",
    "\n",
    "name = input()\n",
    "\n",
    "typingTime = time() - start #calc how much time has passed\n",
    "\n",
    "print(f\"You took {typingTime:.2f} seconds to type your name, loser\")"
   ]
  }
 ],
 "metadata": {
  "kernelspec": {
   "display_name": "Python 3",
   "language": "python",
   "name": "python3"
  },
  "language_info": {
   "codemirror_mode": {
    "name": "ipython",
    "version": 3
   },
   "file_extension": ".py",
   "mimetype": "text/x-python",
   "name": "python",
   "nbconvert_exporter": "python",
   "pygments_lexer": "ipython3",
   "version": "3.8.5"
  }
 },
 "nbformat": 4,
 "nbformat_minor": 4
}

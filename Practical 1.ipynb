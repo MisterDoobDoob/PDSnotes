{
 "cells": [
  {
   "cell_type": "markdown",
   "metadata": {},
   "source": [
    "### Task 2-3\n",
    "Write a Python program that prompts the user to enter his electricity bill for the last 6 months and prints the average of his electricity bills as shown below."
   ]
  },
  {
   "cell_type": "code",
   "execution_count": null,
   "metadata": {},
   "outputs": [],
   "source": [
    "bills={}\n",
    "#bills = {1: 213.2, 2: 13.1, 3: 123.0, 4: 43, 5: 123.9, 6: 1.0} #debug to skip the collect bills section\n",
    "def collectBills():\n",
    "    print(\"*\" * 63)\n",
    "    print(\"Calculate the average electricity bill for the last six months\")\n",
    "    print(\"*\" * 63)\n",
    "    print(\"Enter your monthly bill in numeric form\")\n",
    "    billNumber = 1\n",
    "    while billNumber < 7:\n",
    "        billamt = float(input(f\"Enter Bill #{billNumber}: \"))\n",
    "        bills[billNumber] = billamt\n",
    "        billNumber += 1\n",
    "def printBillsSummary():\n",
    "    print(\"Your electricity bills for the past 6 months are: \")\n",
    "    for billNumber in bills:\n",
    "        if billNumber <= 5:\n",
    "            print(f\"${bills[billNumber]}\",end =\", \")\n",
    "        else:\n",
    "            print(f\"${bills[billNumber]}\")\n",
    "\n",
    "def getAverageBill():\n",
    "    totalAmt = 0\n",
    "    for billNumber, billAmt in bills.items():\n",
    "        # print(f\"bill amount for bill {billNumber} is {billAmt}\") #debug\n",
    "        totalAmt += billAmt\n",
    "        # print(f\"total amount now is {totalAmt}\") #debug\n",
    "    averageBill = totalAmt / len(bills) # averages on the number of entries in the dictionary, more extensible\n",
    "    print(f\"Your average electricity bill is ${averageBill:.2f}, to two decimal places\" )\n",
    "    \n",
    "\n",
    "#print(bills) #debug\n",
    "collectBills()\n",
    "printBillsSummary()\n",
    "getAverageBill()\n"
   ]
  },
  {
   "cell_type": "markdown",
   "metadata": {},
   "source": [
    "### Task 5-2\n",
    "Write a Python program to achieve the following:\n",
    "\n",
    "1.\tprompt the user to enter 3 random strings of at least 8 characters long, each separated by a comma\n",
    "\n",
    "    A sample of what the user might enter is given below\n",
    "\n",
    "    `When Breath Becomes Air,The 91-Storey Treehouse,Harry Potter and the Prisoner of Azkaban`\n",
    "    \n",
    "\n",
    "2.\tuse the **split()** function in Python to separate the strings and store the separated strings into three variables, *s1*, *s2* and *s3*\n",
    "\n",
    "3.\tPerform the following operations on each string:\n",
    "\n",
    "    - Calculate the length of each string\n",
    "    - Extract the second and third characters of *s1*, fifth to seven characters of *s2* and last two characters of *s3*\n",
    "    - Your output should look similar to that shown below"
   ]
  },
  {
   "cell_type": "code",
   "execution_count": null,
   "metadata": {},
   "outputs": [],
   "source": []
  },
  {
   "cell_type": "code",
   "execution_count": null,
   "metadata": {},
   "outputs": [],
   "source": [
    "# Task 5-2\n",
    "\n",
    "threeRandomStrings = str(input(\"Enter 3 random strings of at least 8 characters long, each separated by commas: \"))\n",
    "stringlist = threeRandomStrings.split(sep=',')\n",
    "#print(s1,s2,s3)\n",
    "for stringNum in range(3):\n",
    "    counter = stringNum + 1\n",
    "    currentString = stringlist[stringNum]\n",
    "    print(f\"\"\"\\ns{counter} is {stringlist[stringNum]}\n",
    "    Length of {currentString} is {len(currentString)}\"\"\")\n",
    "    if counter == 1:\n",
    "        print(f\"2nd and 3rd characters of {currentString} is {currentString[1]}{currentString[2]}\")\n",
    "    \n",
    "    elif counter == 2:\n",
    "        print(f\"5th to 7th characters of {currentString} is {currentString[4:7]}\")\n",
    "    \n",
    "    elif counter == 3:\n",
    "        print(f\"Last 2 characters of {currentString} is {currentString[-2:]}\")\n",
    "completed = True"
   ]
  },
  {
   "cell_type": "code",
   "execution_count": null,
   "metadata": {},
   "outputs": [],
   "source": []
  },
  {
   "cell_type": "raw",
   "metadata": {},
   "source": [
    "### Task 6-2 \n",
    "Write a Python program that displays a breakfast menu to the user, asks him for the food he wants to buy and calculates the amount he must pay for the food\n",
    "\n",
    "Your program should:\n",
    "\n",
    "1.\tShow the user a menu consisting of the breakfast menu choices as shown in Fig. 4 and 5\n",
    "2.\tPrompt the user to enter his breakfast choice\n",
    "3.\tDisplay and error message and terminate the program if the choice is invalid\n",
    "4.\tIf breakfast choice is valid, prompt him to enter the quantity he wants to buy\n",
    "5.\tCalculate and display the total amount he must pay "
   ]
  },
  {
   "cell_type": "code",
   "execution_count": null,
   "metadata": {},
   "outputs": [],
   "source": [
    "menu = {\n",
    "    1 : (\"SPuffin\", 5.00), \n",
    "    2 : (\"SPancakes\", 3.0),\n",
    "    3 : (\"SPashbrown\", 1.5)\n",
    "}\n",
    "#print(menu) #debug\n",
    "print(\"\"\"Welcome to SPdonalds!\n",
    "Below is our Breakfast Menu:\n",
    "\"\"\")\n",
    "for item in menu:\n",
    "    print(f\"{item}. {menu[item][0]} (${menu[item][1]:.2f})\")\n",
    "orderComplete = False\n",
    "while orderComplete != True:\n",
    "    foodChoice = int(input(\"\\nEnter your choice of food: \"))\n",
    "    if foodChoice == 1 or foodChoice == 2 or foodChoice == 3:\n",
    "        quantity = int(input(f\"Enter quantity of {menu[foodChoice][0]} you want to order: \"))\n",
    "        cost = quantity * menu[foodChoice][1]\n",
    "        print(f\"The total cost for {quantity} {menu[foodChoice][0]} is ${cost:.2f}\")\n",
    "        orderComplete = True\n",
    "    else:\n",
    "        print(\"You've entered a wrong selection. Exiting Program...\")\n",
    "        orderComplete = True\n",
    "        "
   ]
  },
  {
   "cell_type": "markdown",
   "metadata": {},
   "source": [
    "### Task 7-2 Calculate sum of numbers within a range \n",
    "Write a Python program that calculates the sum of all the numbers from x to y, where x and y are  numbers entered by the user.\n",
    "\n",
    "Your program should:\n",
    "\n",
    "1. Inform the user the purpose of the program as shown in the screenshot below\n",
    "2. Prompt the user to enter the value for **x** and **y**.\n",
    "3. check if 1) **x** and y are numeric 2) higher than zero 3) **y** is **greater than** x. If not, display an error message and terminate the program.\n",
    "4. Use a for loop to calculate the sum of numbers from x to y and store the final value in the *variable sum_of_numbers*\n",
    "5. Display *sum_of_numbers*\n"
   ]
  },
  {
   "cell_type": "code",
   "execution_count": 3,
   "metadata": {},
   "outputs": [
    {
     "name": "stdout",
     "output_type": "stream",
     "text": [
      "This program prints the sum of a range of numbers from x to y.\n",
      "For example, if x is 10 and y is 50, the program will print the sum of numbers from 10 to 50\n",
      "Please enter the value of x: 0\n",
      "Please enter the value of y: o\n",
      "One or more of your inputs are not a number! \n",
      "Unable to continue. Program terminated.\n"
     ]
    }
   ],
   "source": [
    "print(\"\"\"This program prints the sum of a range of numbers from x to y.\n",
    "For example, if x is 10 and y is 50, the program will print the sum of numbers from 10 to 50\"\"\")\n",
    "\n",
    "x = input(\"Please enter the value of x: \")\n",
    "y = input(\"Please enter the value of y: \")\n",
    "\n",
    "endTime = False\n",
    "while endTime != True:\n",
    "    #print(not x.isnumeric())\n",
    "    #print(not y.isnumeric())\n",
    "    #print(not x.isnumeric() or not y.isnumeric())\n",
    "    #if not x.isnumeric() or not y.isnumeric():\n",
    "    if x.isnumeric() == False or y.isnumeric() == False:\n",
    "        print(\"One or more of your inputs are not a number! \") # this makes more sense\n",
    "        print(\"Unable to continue. Program terminated.\")\n",
    "        endTime = True\n",
    "    elif int(x) <= 0 or int(y) <= 0 :\n",
    "        print(\"One or more of your inputs are not greater than zero! \")\n",
    "        print(\"Unable to continue. Program terminated.\")\n",
    "        endTime = True\n",
    "    elif int(y) < int(x):\n",
    "        print(\"You did not enter a value of y that is greater than x! \")\n",
    "        print(\"Unable to continue. Program terminated.\")\n",
    "        endTime = True\n",
    "    else:\n",
    "        sum_of_variables = 0\n",
    "        for counter in range(int(y)-int(x)+1):\n",
    "            sum_of_variables += (int(x) + counter)\n",
    "            #print(f\"sum current number is {(int(x) + counter)}\")\n",
    "            counter += 1\n",
    "        print(f\"The sum of numbers between 50 and 100 is {sum_of_variables}\")\n",
    "            \n",
    "        endTime = True\n",
    "\n"
   ]
  },
  {
   "cell_type": "markdown",
   "metadata": {},
   "source": [
    "### Task 9-3 List Slicing\n",
    "Given the three Python lists below,  provide the code that will retrieve the required elements in each list.\n",
    "\n",
    "list_1 = [300,50,80,90,199,800,74,33]\n",
    "\n",
    "list_2 = ['Apple','Banana','Durian','Grapes','Papaya','Watermelon']\n",
    "\n",
    "list_3 = [0.0, 1.1, 2.2, 3.3, 4.4, 5.5, 6.6, 7.7, 8.8,9.9]\n",
    "\n",
    "(a)\tThe numbers 800, 74 and 33 in list_1\n",
    "\n",
    "(b)\tThe last two elements in list_2\n",
    "\n",
    "(c)\tAll the elements in list_3 except the first and the last"
   ]
  },
  {
   "cell_type": "code",
   "execution_count": null,
   "metadata": {},
   "outputs": [],
   "source": [
    "list_1 = [300,50,80,90,199,800,74,33]\n",
    "list_2 = ['Apple','Banana','Durian','Grapes','Papaya','Watermelon']\n",
    "list_3 = [0.0, 1.1, 2.2, 3.3, 4.4, 5.5, 6.6, 7.7, 8.8,9.9]\n",
    "\n",
    "print(f\"(a) {list_1[5:8]}\")\n",
    "print(f\"(b) {list_2[-2:]}\")\n",
    "print(f\"(c) {list_3[1:8]}\")"
   ]
  },
  {
   "cell_type": "markdown",
   "metadata": {},
   "source": [
    "### Write a Python function that takes in a list of numbers, and outputs them into two lists, one consisting of even numbers, and the other odd numbers.\n",
    "\n",
    "Your program should:\n",
    "\n",
    "1.\tGenerate a list with 20 random numbers in the range of 1 to 100 and store them in the  variable original_list.  Hint: You can generate a list of numbers using list comprehension and the random.randint() function\n",
    "\n",
    "    Example: \n",
    "    Generate 1000 numbers from 1 to 10<br>\n",
    "    numbers = [random.randint(1,10) for x in range(0,1000)] <br><br>\n",
    "\n",
    "2.\tDefine a function called oddandeven(numbers_list) that takes in one parameter of  type list containing a list of numbers and returns two outputs of two lists, one that contains even numbers, and the other that contains odd numbers\n",
    "3.\tAfter writing your function, call the oddandeven(numbers_list)  function, passing in original_list as the parameter, and storing the outputs of the function as even_numbers and odd_numbers respectively\n",
    "4.\tPrint the contents of even_numbers and odd_numbers as shown below\n"
   ]
  },
  {
   "cell_type": "code",
   "execution_count": null,
   "metadata": {},
   "outputs": [],
   "source": [
    "import random\n",
    "odd_numbers = []\n",
    "even_numbers = []\n",
    "original_list = []\n",
    "\n",
    "for counter in range(20):\n",
    "    original_list.append(random.randint(1,100))\n",
    "    counter += 1\n",
    "\n",
    "print(original_list)\n",
    "\n",
    "def oddandeven(numbers_list):\n",
    "\n",
    "    \n",
    "    for number in numbers_list:\n",
    "        print(number)\n",
    "        if number % 2 == 0:\n",
    "            even_numbers.append(number)\n",
    "        else:\n",
    "            odd_numbers.append(number)\n",
    "\n",
    "        \n",
    "oddandeven(original_list)\n",
    "print(f\"odd numbers are {odd_numbers} \\neven numbers are {even_numbers}\")"
   ]
  },
  {
   "cell_type": "code",
   "execution_count": 4,
   "metadata": {},
   "outputs": [
    {
     "name": "stdout",
     "output_type": "stream",
     "text": [
      "Original List: [40, 57, 68, 89, 97, 97, 62, 79, 33, 91, 21, 45, 38, 86, 53, 74, 11, 78, 44, 72]\n",
      "Odd\t: [57, 89, 97, 97, 79, 33, 91, 21, 45, 53, 11]\n",
      "even\t: [40, 68, 62, 38, 86, 74, 78, 44, 72]\n"
     ]
    }
   ],
   "source": [
    "import random #import random to create 20 random numbers\n",
    "\n",
    "# Declare lists\n",
    "odd_numbers = []\n",
    "even_numbers = []\n",
    "original_list = []\n",
    "# Finish declaring lists\n",
    "\n",
    "def create20numbers():\n",
    "    for counter in range(20): #function to create 20 random numbers in a list\n",
    "        original_list.append(random.randint(1,100))\n",
    "        counter += 1\n",
    "\n",
    "def oddandeven(numbers_list): #function to sort numbers\n",
    "    for number in numbers_list:\n",
    "        if number % 2 == 0:\n",
    "            even_numbers.append(number)\n",
    "        else:\n",
    "            odd_numbers.append(number)\n",
    "\n",
    "create20numbers()\n",
    "oddandeven(original_list)\n",
    "\n",
    "print(f\"\"\"Original List: {original_list}\n",
    "Odd\\t: {odd_numbers}\n",
    "even\\t: {even_numbers}\"\"\")"
   ]
  },
  {
   "cell_type": "code",
   "execution_count": null,
   "metadata": {},
   "outputs": [],
   "source": []
  }
 ],
 "metadata": {
  "kernelspec": {
   "display_name": "Python 3",
   "language": "python",
   "name": "python3"
  },
  "language_info": {
   "codemirror_mode": {
    "name": "ipython",
    "version": 3
   },
   "file_extension": ".py",
   "mimetype": "text/x-python",
   "name": "python",
   "nbconvert_exporter": "python",
   "pygments_lexer": "ipython3",
   "version": "3.8.5"
  },
  "metadata": {
   "interpreter": {
    "hash": "63fd5069d213b44bf678585dea6b12cceca9941eaf7f819626cde1f2670de90d"
   }
  }
 },
 "nbformat": 4,
 "nbformat_minor": 4
}

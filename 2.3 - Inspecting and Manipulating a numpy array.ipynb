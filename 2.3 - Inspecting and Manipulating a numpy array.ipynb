{
 "cells": [
  {
   "cell_type": "code",
   "execution_count": null,
   "metadata": {},
   "outputs": [],
   "source": [
    "## Inspecting an array\n",
    "There are two methods to inspect an array"
   ]
  },
  {
   "cell_type": "code",
   "execution_count": null,
   "metadata": {},
   "outputs": [],
   "source": [
    "import numpy as np\n",
    "\n",
    "# Create 3 arrays with different shapes\n",
    "a = np.array([1,2,3])\n",
    "b = np.array([(1,2,3),(4,5,6)])\n",
    "c = np.array([[(1,2,3,4),(5,6,7,8)], [(9,10,11,12),(13,14,15,16)]])\n",
    "\n",
    "#shape returns the number of elements in each dimension\n",
    "print(a.shape)\n",
    "\n",
    "print(b.shape)\n",
    "\n",
    "print(c.shape)\n"
   ]
  },
  {
   "cell_type": "markdown",
   "metadata": {},
   "source": [
    "### Using len, ndim, size\n",
    "```len``` gives the number of elements in the first dimension of an array, but does not count how you might think!<br> \n",
    "```ndim``` counts the number of dimensions in one array<br>\n",
    "```size``` counts the total TOTAL number of elements inside your specified array<br>"
   ]
  },
  {
   "cell_type": "code",
   "execution_count": null,
   "metadata": {},
   "outputs": [],
   "source": [
    "import numpy as np\n",
    "# Create 3 arrays with different shapes and sizes\n",
    "a = np.array([1,2,3,4,5,6])\n",
    "b = np.array([(1,2,3),(4,5,6)])\n",
    "c = np.array([[(1,2,3,4),(5,6,7,8)], \n",
    "              [(9,10,11,12),(13,14,15,16)],\n",
    "             [(17,18,19,20),(21,22,23,24)]])\n",
    "\n",
    "# Size of the first dimension \n",
    "print('====len====')\n",
    "print(len(a));print(len(b));print(len(c))\n",
    "print(a)\n",
    "print(b) #(1,2,3) is one element, (4,5,6) is the second\n",
    "print(c) #[1..8], [9...16], [17...24] are three \"elements\"\n",
    "# Number of dimensions\n",
    "print('====ndim====')\n",
    "print(a.ndim);print(b.ndim);print(c.ndim)\n",
    "\n",
    "# Total number of elements across dimensions\n",
    "print('====size====')\n",
    "print(a.size);print(b.size); print(c.size)\n"
   ]
  },
  {
   "cell_type": "markdown",
   "metadata": {},
   "source": [
    "## Manipulating Arrays\n",
    "There are many functions to manipulate arrays. Here's the cheatsheet:\n",
    "### Change Array Shape\n",
    " ```Flatten()```\n",
    " ```reshape()```\n",
    "### Transpose Array\n",
    "```transpose()```\n",
    "### Combine Arrays\n",
    "```concatenate()```\n",
    "### Add/Remove Elements\n",
    "```append()```\n",
    "```insert()```\n",
    "```delete()```"
   ]
  },
  {
   "cell_type": "markdown",
   "metadata": {},
   "source": [
    "### Changing Array Shape\n",
    "#### ```Flatten()```\n",
    "Penyet ur multidimensional array into a one-dimensional one."
   ]
  },
  {
   "cell_type": "code",
   "execution_count": null,
   "metadata": {},
   "outputs": [],
   "source": [
    "import numpy as np\n",
    "\n",
    "b = np.arange(24).reshape(2,3,4) # b= [[[0,1,2,3],[4,5,6,7],[8..],[20,21,22,23]]]\n",
    "\n",
    "c = b.flatten()\n",
    "\n",
    "print(b,\"\\n=====\") \n",
    "print(c) #[ 0  1  2  3  4  5  6  7  8  9 10 11 12 13 14 15 16 17 18 19 20 21 22 23]\n",
    "\n",
    "c[0] = 100;  # change the first value in the copy\n",
    "print(b) \n",
    "print(c) #[ 100  1  2  3  4  5  6  7  8  9 10 11 12 13 14 15 16 17 18 19 20 21 22 23]"
   ]
  },
  {
   "cell_type": "markdown",
   "metadata": {},
   "source": [
    "#### Changing Array shape with ```reshape()```\n",
    "Modifies the shape of an array, without changing the original array, or modifying any of its data."
   ]
  },
  {
   "cell_type": "code",
   "execution_count": null,
   "metadata": {},
   "outputs": [],
   "source": [
    "import numpy\n",
    "\n",
    "my_fruits = numpy.array([\"apple\",\"banana\",\"cherry\",\"durian\",\"elderberry\",\"Figs\"])\n",
    "print(my_fruits)\n",
    "print()\n",
    "print(numpy.reshape(my_fruits,(3,2)))\n"
   ]
  },
  {
   "cell_type": "markdown",
   "metadata": {},
   "source": [
    "#### Changing Array shape with ```shape()```\n",
    "Return shape of an array"
   ]
  },
  {
   "cell_type": "code",
   "execution_count": null,
   "metadata": {},
   "outputs": [],
   "source": [
    "import numpy as np\n",
    "\n",
    "a= np.array([1, 2, 3, 4, 5])\n",
    "print(a.shape)     #(5,) -> 5 rows and 0 columns\n",
    "\n",
    "b = np.array([[1, 2],[3, 4],[6,5]])\n",
    "print(b.shape) #(3, 2) -> 3 rows and 2 columns "
   ]
  },
  {
   "cell_type": "markdown",
   "metadata": {},
   "source": [
    "#### Changing Array shape with ```resize()```\n",
    "Like reshape, but will add/discard data"
   ]
  },
  {
   "cell_type": "code",
   "execution_count": null,
   "metadata": {},
   "outputs": [],
   "source": [
    "import numpy as np\n",
    "\n",
    "a=np.array([[0,1],[2,3]]) #2x2\n",
    "\n",
    "print(f\"resize array a to 4x1: \\n{np.resize(a,(4,1))}\\n===\") # not allowed in reshape\n",
    "\n",
    "print(f\"resize array a to 2x3: \\n{np.resize(a,(2,3))}\\n===\") # not allowed in reshape\n",
    "\n",
    "b = np.array([(1,2),(3,4),(5,5)])\n",
    "print(b)\n",
    "print(np.ndim(b))"
   ]
  },
  {
   "cell_type": "markdown",
   "metadata": {},
   "source": [
    "#### Changing Array shape with ```transpose()```\n",
    "Modifies the shape of an array, without changing the original array, or modifying any of its data."
   ]
  },
  {
   "cell_type": "markdown",
   "metadata": {},
   "source": [
    "### Combining arrays \n",
    "#### Changing Array shape with ```concatenate()```\n",
    "Two or more arrays can be concatenated using concatenate() function along an axis  \n",
    "The arrays must have the same shape, except in the dimension corresponding to axis (the first, by default). <br>\n",
    "- axis = 1 will concatenate on the  \"y axis\", axis 0 will concatenate on the x axis <br>\n",
    "\n",
    "Syntax: ```numpy.concatenate((a1, a2, ...), axis=0)```\n"
   ]
  },
  {
   "cell_type": "code",
   "execution_count": null,
   "metadata": {},
   "outputs": [],
   "source": [
    "# Concatenating a 1 dimensional array\n",
    "import numpy as np\n",
    "\n",
    "# 1-D array\n",
    "x = np.arange(5)\n",
    "y = np.arange(6,10)\n",
    "z = np.arange(11,15)\n",
    "\n",
    "print(x);print(y); print(z)\n",
    "print(np.concatenate((x,y,z)))\n"
   ]
  },
  {
   "cell_type": "code",
   "execution_count": null,
   "metadata": {
    "scrolled": true
   },
   "outputs": [],
   "source": [
    "# Concatenating a 2 dimensional array\n",
    "\n",
    "import numpy as np\n",
    "\n",
    "# 2-D array\n",
    "a = np.array([(1,2),(5,6)])\n",
    "b = np.array([(1,3),(4,7)])\n",
    "print(a)\n",
    "print(\"*\"*5)\n",
    "print(b)\n",
    "print(\"*\"*10)\n",
    "\n",
    "c = np.concatenate((a,b))\n",
    "print(f\"array a is: \\n{a}\");print(f\"array b is: \\n {b}\");\n",
    "print(\"*\"*10)\n",
    "\n",
    "#print(np.concatenate((a,b)))\n",
    "print(f\"By default, axis is on 0: \\n{np.concatenate((a,b), axis=0)}\")\n",
    "print(\"*\"*10)\n",
    "print(f\"axis on 1: \\n{np.concatenate((a,b), axis=1)}\")\n"
   ]
  },
  {
   "cell_type": "code",
   "execution_count": null,
   "metadata": {},
   "outputs": [],
   "source": [
    "### tryna figure out axis\n",
    "import numpy as np\n",
    "\n",
    "## kinda like adding two different matrices together\n",
    "\n",
    "# 2-D array\n",
    "a = np.array([(1,2,3,4),(7,8,9,10)])\n",
    "b = np.array([(5,6),(4,7)])\n",
    "\n",
    "print(f\"axis on 1: \\n{np.concatenate((a,b), axis=1)}\")\n"
   ]
  },
  {
   "attachments": {},
   "cell_type": "markdown",
   "metadata": {},
   "source": [
    "### Adding/Removing elements\n",
    "#### Adding values to the end of an array with ```Append()```\n",
    "Syntax: ```numpy.append(arr, values, axis=None)``` <br>\n",
    "Values must be of the correct shape<br>\n",
    "If axis is not specified, values can be any shape and will be flattened before use! <br>"
   ]
  },
  {
   "cell_type": "code",
   "execution_count": 23,
   "metadata": {},
   "outputs": [
    {
     "output_type": "stream",
     "name": "stdout",
     "text": [
      "[[1 2 3]\n [4 5 6]]\n\n[1 2 3 4 5 6 7 8]\n\n[1 2 3 4 5 6 7 8 9]\n\n"
     ]
    }
   ],
   "source": [
    "import numpy as np\n",
    "\n",
    "x = np.array([(1,2,3), (4,5,6)])\n",
    "print(x);print()\n",
    "\n",
    "# no axis specified\n",
    "appendedx = np.append(x, np.array([7,8]))\n",
    "print(appendedx);print()\n",
    "appendedx = np.append(x, np.array([7,8,9]))\n",
    "print(appendedx);print()"
   ]
  },
  {
   "cell_type": "code",
   "execution_count": 29,
   "metadata": {},
   "outputs": [
    {
     "output_type": "stream",
     "name": "stdout",
     "text": [
      "[[1 2 3]\n [4 5 6]]\n\n[[1 2 3]\n [4 5 6]\n [7 8 9]]\n\n[[ 1  2  3  7  8]\n [ 4  5  6  9 10]]\n\n"
     ]
    }
   ],
   "source": [
    "import numpy as np\n",
    "\n",
    "x = np.array([(1,2,3), (4,5,6)])\n",
    "print(x);print()\n",
    "\n",
    "# axis specified\n",
    "x1 = np.append(x, np.array([(7,8,9)]),axis = 0)\n",
    "x2 = np.append(x, np.array([(7,8), (9,10)]),axis = 1)\n",
    "#x2 = np.append(x, np.array([(7,8), (9)]),axis = 1) \n",
    "# code will end in error, as the array is strict about its dimensions\n",
    "\n",
    "print(x1);print()\n",
    "print(x2);print()"
   ]
  },
  {
   "cell_type": "markdown",
   "metadata": {},
   "source": [
    "#### Inserting values with ```insert()```\n",
    "This isn't inside the notes, but I figured i'd just reiterate.<br>\n",
    "```insert()``` allows you to insert values at the specified indices<br>\n",
    "Syntax: ```numpy.insert(arr, obj, values, axis=None)```<br>\n",
    "Where ```arr``` is the array you wanna insert into, ```obj``` is the defined index, and ```values``` is the values you wanna insert."
   ]
  },
  {
   "cell_type": "code",
   "execution_count": 34,
   "metadata": {},
   "outputs": [
    {
     "output_type": "stream",
     "name": "stdout",
     "text": [
      "[[1 1]\n [2 2]\n [3 3]]\n********************\n[7 8 9 1 1 2 2 3 3]\n********************\n[1 1 7 8 9 2 2 3 3]\n********************\n[[1 5 1]\n [2 6 2]\n [3 7 3]]\n********************\n"
     ]
    },
    {
     "output_type": "execute_result",
     "data": {
      "text/plain": [
       "(None, None)"
      ]
     },
     "metadata": {},
     "execution_count": 34
    }
   ],
   "source": [
    "import numpy as np\n",
    "insertEg = np.array([[1, 1], [2, 2], [3, 3]])\n",
    "print(insertEg),print(\"*\"*20)\n",
    "#       .insert(arr     , obj, values, axis=None)\n",
    "print(np.insert(insertEg, 0, [7,8,9])),print(\"*\"*20)\n",
    "print(np.insert(insertEg, 2, [7,8,9])),print(\"*\"*20)\n",
    "\n",
    "\n",
    "print(np.insert(insertEg, 1, [5,6,7], axis=1)),print(\"*\"*20)\n",
    "\n"
   ]
  },
  {
   "cell_type": "code",
   "execution_count": 2,
   "metadata": {},
   "outputs": [
    {
     "output_type": "stream",
     "name": "stdout",
     "text": [
      "[[0 1 2 3]\n [4 5 6 7]]\n"
     ]
    },
    {
     "output_type": "execute_result",
     "data": {
      "text/plain": [
       "array([[  0, 999,   1,   2, 999,   3],\n",
       "       [  4, 999,   5,   6, 999,   7]])"
      ]
     },
     "metadata": {},
     "execution_count": 2
    }
   ],
   "source": [
    "import numpy as np\n",
    "x = np.arange(8).reshape(2, 4)\n",
    "print(x)\n",
    "idx = (1, 3)\n",
    "np.insert(x, idx, 999, axis=1)\n"
   ]
  }
 ],
 "metadata": {
  "kernelspec": {
   "name": "python391jvsc74a57bd063fd5069d213b44bf678585dea6b12cceca9941eaf7f819626cde1f2670de90d",
   "display_name": "Python 3.9.1 64-bit"
  },
  "language_info": {
   "codemirror_mode": {
    "name": "ipython",
    "version": 3
   },
   "file_extension": ".py",
   "mimetype": "text/x-python",
   "name": "python",
   "nbconvert_exporter": "python",
   "pygments_lexer": "ipython3",
   "version": "3.9.1"
  },
  "metadata": {
   "interpreter": {
    "hash": "63fd5069d213b44bf678585dea6b12cceca9941eaf7f819626cde1f2670de90d"
   }
  }
 },
 "nbformat": 4,
 "nbformat_minor": 4
}
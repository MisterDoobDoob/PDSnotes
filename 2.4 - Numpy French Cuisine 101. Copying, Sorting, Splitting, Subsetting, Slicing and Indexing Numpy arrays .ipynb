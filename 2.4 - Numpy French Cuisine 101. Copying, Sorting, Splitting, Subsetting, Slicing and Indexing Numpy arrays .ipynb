{
 "cells": [
  {
   "cell_type": "markdown",
   "metadata": {},
   "source": [
    "## Splitting Arrays\n",
    "Three common functions to split arrays in numpy are: ```split()```, ```hsplit()```, ```vsplit()```. Let's start with the simplest!"
   ]
  },
  {
   "attachments": {},
   "cell_type": "markdown",
   "metadata": {},
   "source": [
    "### ```split()```\n",
    "Split an array into multiple sub-arrays<br>\n",
    "Syntax: ```numpy.split(array, indices_or_sections, axis=0)```\n"
   ]
  },
  {
   "cell_type": "code",
   "execution_count": null,
   "metadata": {},
   "outputs": [],
   "source": [
    "import numpy as np\n",
    "\n",
    "x = np.arange(9.0)\n",
    "y = np.split(x, 3)\n",
    "\n",
    "print(x)\n",
    "print(y)"
   ]
  },
  {
   "attachments": {},
   "cell_type": "markdown",
   "metadata": {},
   "source": [
    "### ```hsplit()```\n",
    "Split an array into multiple sub-arrays horizontally (column-wise) <br>\n",
    "Equivalent to split with axis=1, the array is always split along the second axis regardless of the array dimension<br>\n",
    "Syntax: ```numpy.hsplit(array, indices_or_sections)```"
   ]
  },
  {
   "cell_type": "code",
   "execution_count": null,
   "metadata": {},
   "outputs": [],
   "source": [
    "a = np.arange(12).reshape(3,4)\n",
    "\n",
    "b = np.hsplit(a,2)\n",
    "c = np.hsplit(a,4)\n",
    "\n",
    "print(a)\n",
    "print(b)\n",
    "print(c)\n",
    "#Observe the way it iterates"
   ]
  },
  {
   "attachments": {},
   "cell_type": "markdown",
   "metadata": {},
   "source": [
    "### ```vsplit()```\n",
    "Split an array into multiple sub-arrays vertically (row-wise)<br>\n",
    "equivalent to split with axis=0 (default), the array is always split along the first axis regardless of the array dimension<br>\n",
    "Syntax: ```numpy.vsplit(array, indices_or_sections)```"
   ]
  },
  {
   "cell_type": "code",
   "execution_count": null,
   "metadata": {},
   "outputs": [],
   "source": [
    "import numpy as np\n",
    "\n",
    "x = np.arange(12.0).reshape(4, 3)\n",
    "y = np.vsplit(x, 2)\n",
    "\n",
    "print(x)\n",
    "print(y)"
   ]
  },
  {
   "cell_type": "markdown",
   "metadata": {},
   "source": [
    "### Copying and Sorting Arrays\n",
    "```copy()``` and ```sort()``` are very powerful, but need some time to understand"
   ]
  },
  {
   "source": [
    "import numpy as np\n",
    "\n",
    "# Create 2 arrays with different data types, shapes and sizes\n",
    "a = np.array([10,2,8,4,6,1,5,9,3,7])\n",
    "\n",
    "sortednumbers = np.copy(a)\n",
    "sortednumbers.sort()\n",
    "\n",
    "print(a)\n",
    "print(sortednumbers)"
   ],
   "cell_type": "code",
   "metadata": {
    "scrolled": true
   },
   "execution_count": null,
   "outputs": []
  },
  {
   "cell_type": "markdown",
   "metadata": {},
   "source": [
    "#### More examples with sort()\n",
    "```sort()``` sorts according to the ASCII Table! So generally its: !?@special chars -> UPPERCase -> lower case"
   ]
  },
  {
   "cell_type": "code",
   "execution_count": null,
   "metadata": {
    "scrolled": true
   },
   "outputs": [],
   "source": [
    "import numpy as np\n",
    "\n",
    "# Create 2 arrays with different data types, shapes and sizes\n",
    "insects = np.array([(\"aphid\",\"Cricket\",\"mosquito\"),(\"bee\",\"cricket\",\"fruit fly\")])\n",
    "print(insects),print()\n",
    "\n",
    "sortOn0 = np.sort(insects, axis = 0) #sort vertically/along columns\n",
    "print(sortOn0)\n",
    "sortOn1 = np.sort(insects, axis = 1) #sort horizontally/along the rows\n",
    "print(sortOn1)"
   ]
  },
  {
   "cell_type": "markdown",
   "metadata": {},
   "source": [
    "### Subsetting, Slicing, Indexing\n",
    "Subsetting is retrieving specific parts of a large file.<br> \n",
    "In the numpy context, we select a specific number of elements in an array.<br>\n",
    "You're likely already familiar with the concept, if you've interacted with an array in python!"
   ]
  },
  {
   "cell_type": "code",
   "execution_count": null,
   "metadata": {},
   "outputs": [],
   "source": [
    "import numpy as np\n",
    "\n",
    "a = np.arange(9) # a = [0,1,2,3,4,5,6,7,8]\n",
    "\n",
    "# Select the element at index 2\n",
    "print(a[2])\n",
    "\n",
    "# Select elements from index 0 to 7 with step 2\n",
    "print(a[:7:2])\n",
    "\n",
    "# Select and reverse elements from index 0 to the end\n",
    "print(a[::-1])"
   ]
  },
  {
   "cell_type": "code",
   "execution_count": null,
   "metadata": {},
   "outputs": [],
   "source": [
    "# subsetting and slicing in 1-D\n",
    "import numpy as np\n",
    "insectArray = np.array([\"aphid\",\"Cricket\",\"mosquito\"])\n",
    "print(insectArray),print()\n",
    "\n",
    "print(insectArray[0]) # selects the first element in the first row \n",
    "print(insectArray[0][1]) #selects the second character, from the first row (recall how strings are stored as lists)\n"
   ]
  },
  {
   "cell_type": "code",
   "execution_count": null,
   "metadata": {},
   "outputs": [],
   "source": []
  },
  {
   "cell_type": "code",
   "execution_count": null,
   "metadata": {},
   "outputs": [],
   "source": [
    "# subsetting and slicing in 2-D\n",
    "import numpy as np\n",
    "insectArray = np.array([(\"aphid\",\"Cricket\",\"mosquito\"),(\"bee\",\"cricket\",\"fruit fly\")])\n",
    "print(insectArray),print()\n",
    "\n",
    "print(insectArray[0]) # select the first row (recall that python counts from zero)\n",
    "print(insectArray[0][1]) # selects the second element in the first row \n",
    "print(insectArray[0][1][2]) # selects the third character, from the blablabla (recall how strings are stored as lists)\n",
    "\n",
    "print(\"====\")\n",
    "print(insectArray),print()\n",
    "\n",
    "print(insectArray[1,2])\n",
    "print(insectArray[1,-1]) #Last element in second row\n",
    "print(insectArray[-1,2])\n",
    "print(insectArray[-2,2]) #Second last row, second element\n",
    "print(insectArray[1,0:2])\n",
    "print(\"=====\")\n",
    "print(insectArray[0:2,0:2])\n",
    "print(insectArray[0:5,2])"
   ]
  },
  {
   "cell_type": "markdown",
   "metadata": {},
   "source": [
    "#### Slicing in even more dimensions\n"
   ]
  },
  {
   "cell_type": "code",
   "execution_count": null,
   "metadata": {},
   "outputs": [],
   "source": [
    "import numpy as np\n",
    "\n",
    "# Create an array with 0 to 23 and reshape it into a 2x3x4 array # Think of it as an Excel workbook with 2 worksheets\n",
    "# Each worksheet has 3 rows,4 columns\n",
    "b = np.arange(24).reshape(2,3,4)\n",
    "print(\"Column b is:\\n\", b),print()\n",
    "\n",
    "# Select worksheet 2, Row 2, Col 4\n",
    "print(\"Select worksheet 2, Row 2, Col 4:\\n\", b[1,1,3])  # 19\n",
    "\n",
    "# Select both worksheets, Row 1, Col 1\n",
    "print(\"Select both worksheets, Row 1, Col 1\\n\", b[:,0,0])  # 0 12\n",
    "\n",
    "# Select first worksheet, all rows and columns\n",
    "print(\"Three ways of selecting the entire array in the 1st dimension\")\n",
    "# Method 1\n",
    "print(b[0]) \n",
    "# Method 2\n",
    "print(b[0, :, :])\n",
    "# Method 3, Ellipsis replaces the multiple colons\n",
    "print(b[0, ...])\n"
   ]
  },
  {
   "cell_type": "code",
   "execution_count": 25,
   "metadata": {},
   "outputs": [
    {
     "name": "stdout",
     "output_type": "stream",
     "text": [
      "[[['aphid' 'grasshopper' 'mosquito']\n",
      "  ['bee' 'cricket' 'fruit fly']]\n",
      "\n",
      " [['Tarantula' 'Black Widows' 'Brown Spider']\n",
      "  ['Buzzing Bees' 'Honey Bees' 'Exceptionally good Bees']]]\n",
      "dimensions of the insectArray are (2, 2, 3)\n",
      "********************\n",
      "Exceptionally good Bees\n",
      "Skipping every other element: ['Buzzing Bees' 'Exceptionally good Bees']\n",
      "Selecting the first two elements of every dimension:  [['aphid' 'grasshopper']\n",
      " ['Tarantula' 'Black Widows']]\n"
     ]
    }
   ],
   "source": [
    "# Slicing a string array\n",
    "import numpy as np\n",
    "\n",
    "insectArray = np.array([[(\"aphid\",\"grasshopper\",\"mosquito\"),(\"bee\",\"cricket\",\"fruit fly\")],[(\"Tarantula\", \"Black Widows\", \"Brown Spider\"),(\"Buzzing Bees\",\"Honey Bees\",\"Exceptionally good Bees\")]])\n",
    "print(insectArray),\n",
    "print(\"dimensions of the insectArray are\", insectArray.shape) \n",
    "print(\"*\"*20)\n",
    "\n",
    "print(insectArray[1,1,2])\n",
    "print(\"Skipping every other element:\", insectArray[1,1,::2])\n",
    "print(\"Selecting the first two elements of every dimension: \", insectArray[:,0,0:2])"
   ]
  },
  {
   "cell_type": "markdown",
   "metadata": {},
   "source": [
    "## Indexing\n",
    "Boolean indexing lets you indicate if an element should be included<br>\n",
    "In the example below, we want to create an array with only the even numbers<br>"
   ]
  },
  {
   "cell_type": "code",
   "execution_count": 34,
   "metadata": {},
   "outputs": [
    {
     "name": "stdout",
     "output_type": "stream",
     "text": [
      "[[ 7 16  9 18 12 11]\n",
      " [18  9  8 12  5  1]]\n",
      "[[False  True False  True  True False]\n",
      " [ True False  True  True False False]]\n",
      "[16 18 12 18  8 12]\n"
     ]
    }
   ],
   "source": [
    "import numpy as np\n",
    "\n",
    "a = np.random.randint(20, size=12).reshape(2,6)\n",
    "print(a)\n",
    "\n",
    "b = a % 2 == 0\n",
    "print(b)\n",
    "\n",
    "a = a[b]\n",
    "\n",
    "print(a)"
   ]
  },
  {
   "cell_type": "markdown",
   "metadata": {},
   "source": [
    "#### Addl Example\n",
    "Additional operations!"
   ]
  },
  {
   "cell_type": "code",
   "execution_count": 43,
   "metadata": {},
   "outputs": [
    {
     "name": "stdout",
     "output_type": "stream",
     "text": [
      "[[11  8  9]\n",
      " [ 8 10  8]\n",
      " [ 8  2  3]\n",
      " [ 1  3  5]]\n",
      "[[False False  True]\n",
      " [False False False]\n",
      " [False False  True]\n",
      " [False  True False]]\n",
      "Numbers divisible by 3: [9 3 3]\n",
      "====================\n",
      "[[ True False  True]\n",
      " [False False False]\n",
      " [False False  True]\n",
      " [ True  True  True]]\n",
      "Odd numbers: [11  9  3  1  3  5]\n"
     ]
    }
   ],
   "source": [
    "import numpy as np\n",
    "\n",
    "a = np.random.randint(12, size=12).reshape(4,3)\n",
    "print(a)\n",
    "\n",
    "divisibleBy3 = a % 3 == 0\n",
    "print(divisibleBy3)\n",
    "print(\"Numbers divisible by 3:\", a[divisibleBy3])\n",
    "print(\"=\"*20)\n",
    "oddNumberIndex = a % 2 == 1\n",
    "print(oddNumberIndex)\n",
    "print(\"Odd numbers:\", a[oddNumberIndex])"
   ]
  },
  {
   "cell_type": "code",
   "execution_count": null,
   "metadata": {},
   "outputs": [],
   "source": []
  }
 ],
 "metadata": {
  "kernelspec": {
   "display_name": "Python 3",
   "language": "python",
   "name": "python3"
  },
  "language_info": {
   "codemirror_mode": {
    "name": "ipython",
    "version": 3
   },
   "file_extension": ".py",
   "mimetype": "text/x-python",
   "name": "python",
   "nbconvert_exporter": "python",
   "pygments_lexer": "ipython3",
   "version": "3.8.5"
  }
 },
 "nbformat": 4,
 "nbformat_minor": 4
}
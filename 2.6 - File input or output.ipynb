{
 "cells": [
  {
   "cell_type": "code",
   "execution_count": 32,
   "metadata": {
    "scrolled": true
   },
   "outputs": [
    {
     "name": "stdout",
     "output_type": "stream",
     "text": [
      "[('135', 'AhMi', 'SOC', 19, 26) ('342', 'Aly', 'EEE', 20, 29)\n",
      " ('275', 'Alfr', 'SB', 42, 28) ('123', 'Abig', 'MAD', 24, 25)\n",
      " ('542', 'Lee', 'MDMA', 24, 31)]\n",
      "********************\n",
      "[('135', 'AhMi', 'SOC', 19, 26) ('342', 'Aly', 'EEE', 20, 29)\n",
      " ('275', 'Alfr', 'SB', 42, 28) ('123', 'Abig', 'MAD', 24, 25)\n",
      " ('542', 'Lee', 'MDMA', 24, 31)]\n"
     ]
    }
   ],
   "source": [
    "# Read the csv file, \"students.csv\"\n",
    "import numpy as np\n",
    "\n",
    "loadtxtStudents = np.loadtxt('data/studentsNoHeader.csv', delimiter=',', dtype={'names': (\"ID\", \"Name:\",\"School\",\"Age\",\"Credits\"), 'formats': ('U3', 'U4', 'U5', int, int)})\n",
    "\n",
    "genfromtxtStudents = np.genfromtxt('data/students.csv', delimiter=',', names = True, dtype=('U3', 'U4', 'U5', int, int))\n",
    "print(loadtxtStudents)\n",
    "print(\"*\"*20)\n",
    "\n",
    "print(genfromtxtStudents)"
   ]
  },
  {
   "cell_type": "code",
   "execution_count": 47,
   "metadata": {
    "scrolled": false
   },
   "outputs": [
    {
     "name": "stdout",
     "output_type": "stream",
     "text": [
      "[('2010-01', 1, 'Category A', 1152, 1145, 1342, 18502)\n",
      " ('2010-01', 1, 'Category B',  687,  679,  883, 19190)\n",
      " ('2010-01', 1, 'Category C',  173,  173,  265, 19001) ...\n",
      " ('2020-03', 2, 'Category C',  448,  448,  708, 22002)\n",
      " ('2020-03', 2, 'Category D',  581,  576,  757,  4489)\n",
      " ('2020-03', 2, 'Category E',  331,  324,  503, 32500)]\n",
      "shape of data is:  (1230,)\n"
     ]
    }
   ],
   "source": [
    "# Read the coe-results data\n",
    "import numpy as np\n",
    "\n",
    "coe_results = np.genfromtxt('data/coe-results.csv', \n",
    "                                 delimiter = \",\", \n",
    "                                 names = True, \n",
    "                                 dtype = ('U7', int, \"U10\", int, int, int, int))\n",
    "\n",
    "print(coe_results)\n",
    "print(\"shape of data is: \", coe_results.shape)"
   ]
  },
  {
   "cell_type": "code",
   "execution_count": null,
   "metadata": {},
   "outputs": [],
   "source": []
  }
 ],
 "metadata": {
  "kernelspec": {
   "display_name": "Python 3",
   "language": "python",
   "name": "python3"
  },
  "language_info": {
   "codemirror_mode": {
    "name": "ipython",
    "version": 3
   },
   "file_extension": ".py",
   "mimetype": "text/x-python",
   "name": "python",
   "nbconvert_exporter": "python",
   "pygments_lexer": "ipython3",
   "version": "3.8.5"
  }
 },
 "nbformat": 4,
 "nbformat_minor": 4
}

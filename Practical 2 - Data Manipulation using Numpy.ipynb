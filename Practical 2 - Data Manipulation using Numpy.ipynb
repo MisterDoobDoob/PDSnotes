{
 "cells": [
  {
   "cell_type": "markdown",
   "metadata": {},
   "source": [
    "## Creating Arrays\n",
    "#### Task 3.1: Create 1-d numpy array\n",
    "\n",
    "Write Python code to create  1-d Numpy arrays containing the values as follows\n",
    "\n",
    "a)  [0,1,2,3,4,5,6,7]  \n",
    "b)  ['Mary', 'John', 'Peter', 'Christine']  \n",
    "c)  ['2017-10-01', '2017-10-02', '2017-10-03',….., '2017-10-31']   \n",
    "d)  10 random decimal numbers between 0  and 1"
   ]
  },
  {
   "cell_type": "code",
   "execution_count": null,
   "metadata": {},
   "outputs": [],
   "source": [
    "import numpy as np # always run this first"
   ]
  },
  {
   "cell_type": "code",
   "execution_count": null,
   "metadata": {},
   "outputs": [],
   "source": [
    "a = np.array([0,1,2,3,4,5,6,7])\n",
    "print(a)\n",
    "alsoa = np.arange(8)\n",
    "print(alsoa)\n",
    "alsoa = np.arange(0,8)\n",
    "print(alsoa)"
   ]
  },
  {
   "cell_type": "code",
   "execution_count": null,
   "metadata": {},
   "outputs": [],
   "source": [
    "b = np.array(['Mary', 'John', 'Peter', 'Christine'])\n",
    "print(b)"
   ]
  },
  {
   "cell_type": "code",
   "execution_count": null,
   "metadata": {
    "scrolled": true
   },
   "outputs": [],
   "source": [
    "c = np.arange('2017-10-01','2017-11-01',dtype='datetime64')\n",
    "print(c)"
   ]
  },
  {
   "cell_type": "code",
   "execution_count": null,
   "metadata": {},
   "outputs": [],
   "source": [
    "d = np.random.random((1,10))\n",
    "print(d)"
   ]
  },
  {
   "cell_type": "markdown",
   "metadata": {},
   "source": [
    "### Task 3.2: Create 2-d numpy array \n",
    "\n",
    "Write Python code to create  2-d Numpy arrays containing the values as follows\n",
    "\n",
    "a)\t2x4 array [(1,2,3,4), (5,6,7,8)]  \n",
    "b)\t3x3 array [(1.6,1.7,1.8),(2.5,5.0,7.5),(20,40,60)]  \n",
    "c)\t3x4 2-d array, with initial value zero  \n",
    "d)\t4x3 2-d array with initial value 10.5  \n",
    "e)\t4x8 array with random values between 1 and 6  "
   ]
  },
  {
   "cell_type": "code",
   "execution_count": null,
   "metadata": {},
   "outputs": [],
   "source": [
    "a = np.array([(1,2,3,4), (5,6,7,8)])\n",
    "print(a)\n",
    "alsoa = np.arange(1,9).reshape(2,4)\n",
    "# print(alsoa)\n",
    "b = np.array([(1.6,1.7,1.8),(2.5,5.0,7.5),(20,40,60)])\n",
    "# print(b)\n",
    "c = np.zeros((3,4))\n",
    "# print(c)\n",
    "d = np.full((4,3), 10.5)\n",
    "# print(d)\n",
    "e = np.random.uniform(1,6,(4,8))\n",
    "print(e)"
   ]
  },
  {
   "cell_type": "markdown",
   "metadata": {},
   "source": [
    "### Task 4.1: Use the  shape, ndim, size properties and len function\n",
    "Create 4 arrays with the values as shown in (a) to (d), then use the following properties and function on each array to inspect each one.  \n",
    "\n",
    "-  **shape** property to find out the shape of the array\n",
    "-  **ndim** property to find out the number of dimensions of the array\n",
    "-  **property** to find out the total number of elements in the array\n",
    "-  **function** to find out the number of rows in the array\n",
    "\n",
    "(a)\t[1.55,1.73,1.9,1.72,1.66,1.8]<br>\n",
    "(b)\t [('red', 'green', 'yellow', 'blue'),(True,False, False, True), ('2017-10-01', '2017-11-11', '2017-12-23', '2018-03-31')]<br>\n",
    "(c)\t[[(10,9,8,7),(6,5,4,3)], [(1,2,3,4),(5,6,7,8)]]<br>"
   ]
  },
  {
   "cell_type": "code",
   "execution_count": null,
   "metadata": {},
   "outputs": [],
   "source": [
    "## Skipping 4 to 5 because i'm better than that"
   ]
  },
  {
   "attachments": {
    "image.png": {
     "image/png": "[encoded data removed]"
    }
   },
   "cell_type": "markdown",
   "metadata": {},
   "source": [
    "### Task 4.2: Use the ```type``` function, ```dtype``` property\n",
    "\n",
    "Apply the ```type``` function and ```dtype``` property on each of the arrays in Task 2 to inspect them\n",
    " \n",
    "Your output should appear as shown on the right![image.png](attachment:image.png)\n"
   ]
  },
  {
   "cell_type": "markdown",
   "metadata": {},
   "source": [
    "### Task 6.1: Concatenate arrays (SUBMISSION REQUIRED)\n",
    "https://docs.scipy.org/doc/numpy/reference/generated/numpy.concatenate.html\n",
    "\n",
    "##### (a)\tWrite Python code to concatenate the following arrays on the x-axis \n",
    "a = np.array([[ 1,2,3],[ 4,5,6],[7,8,9]])<br>\n",
    "b = np.full((3,3),1.5)<br>\n",
    "c = np.arange(0,15).reshape(5,3)<br>\n",
    "\n",
    "\n",
    "##### (b)\tWrite Python code to concatenate the following arrays on the y-axis\n",
    "a = np.array([[ 1,2,3,4],[ 4,5,6,7],[7,8,9,10],[11,12,13,14]])<br>\n",
    "b = np.random.randint(100,200,(4,6))<br>\n",
    "c = np.arange(0,40).reshape(4,10)<br>\n",
    "\n",
    "\n"
   ]
  },
  {
   "cell_type": "code",
   "execution_count": null,
   "metadata": {},
   "outputs": [],
   "source": [
    "# 6.1a\n",
    "# concatenating on the x axis makes it axis 1\n",
    "a = np.array([[1,2,3],[4,5,6],[7,8,9]])\n",
    "b = np.full((3,3),1.5)\n",
    "c = np.arange(0,15).reshape(5,3)\n",
    "\n",
    "#print(\"\\nQn 6.1 (a) \\nA:\\n\", a, \"\\nB:\\n\", b, \"\\nC:\\n\", c) #Just to check the arrays\n",
    "abc = np.concatenate((a,b,c), axis = 0) #concatenate along the conca\n",
    "print(\"Qn 6.1 (a) abc\\n\", abc)\n",
    "print(\"*\"*20)\n",
    "\n",
    "# 6.2 b\n",
    "a = np.array([[ 1,2,3,4],[ 4,5,6,7],[7,8,9,10],[11,12,13,14]])\n",
    "b = np.random.randint(100,200,(4,6))\n",
    "c = np.arange(0,40).reshape(4,10)\n",
    "\n",
    "#print(\"Qn 6.1 (b) abc\\nA:\\n\", a, \"\\nB:\\n\", b, \"\\nC:\\n\", c) #Just to check the arrays\n",
    "\n",
    "abc = np.concatenate((a,b,c), axis = 1)\n",
    "print(\"Qn 6.1 (b) abc\\n\", abc)"
   ]
  },
  {
   "cell_type": "markdown",
   "metadata": {},
   "source": [
    "### Task 6.2: Split arrays\n",
    "https://docs.scipy.org/doc/numpy/reference/generated/numpy.split.html#numpy.split<br>\n",
    "**(a)\tWrite Python code to split the following array into 20 sub-arrays** <br>\n",
    "x = np.arange(100)<br>\n",
    "**(b)\tWrite Python code to split the following array at these intervals: 10, 25, 45, 75, 95**<br>\n",
    "x = np.arange(100)"
   ]
  },
  {
   "cell_type": "code",
   "execution_count": null,
   "metadata": {},
   "outputs": [],
   "source": [
    "# Task 6.2 (a)\n",
    "x = np.arange(100)\n",
    "x = np.split(x, 20)\n",
    "print(\"x split into 20 subarrays is\\n\", x)\n",
    "print(\"*\"*20)\n",
    "# Task 6.2 (b)\n",
    "x = np.arange(100)\n",
    "x = np.split(x, (10,25,45,75,95))\n",
    "print(\"x split at the blabla intervals is:\\n\", x)"
   ]
  },
  {
   "cell_type": "markdown",
   "metadata": {},
   "source": [
    "## Copying Arrays\n",
    "### Task 7.1 Make a copy of a Numpy array\n",
    "(a)\tWhat is the difference between y and z?\n",
    "\n",
    "x = np.array([1, 2, 3]) <br>\n",
    "\n",
    "y = x <br>\n",
    "\n",
    "z = np.copy(x) <br>\n",
    "\n",
    "(b)\tWhat is the value of x, y and z after executing Line 4?\n",
    "\n",
    "```Line\t \n",
    "1\tx = np.array([1, 2, 3]) \n",
    "2\ty = x \n",
    "3\tz = np.copy(x) \n",
    "4\tx[0] = 10 ```"
   ]
  },
  {
   "cell_type": "code",
   "execution_count": null,
   "metadata": {},
   "outputs": [],
   "source": [
    "#### 7.1 (a)\n",
    "x = np.array([1, 2, 3])\n",
    "\n",
    "y = x\n",
    "\n",
    "z = np.copy(x)\n",
    "\n",
    "print(x)\n",
    "print(y)\n",
    "print(z)"
   ]
  },
  {
   "cell_type": "code",
   "execution_count": null,
   "metadata": {},
   "outputs": [],
   "source": [
    "#### self experiment\n",
    "x = np.array([1,24,3,61,6])\n",
    "\n",
    "y = x\n",
    "\n",
    "z = np.copy(x)\n",
    "z.sort()\n",
    "print(x)\n",
    "print(y)\n",
    "print(z)"
   ]
  },
  {
   "cell_type": "code",
   "execution_count": null,
   "metadata": {
    "scrolled": true
   },
   "outputs": [],
   "source": [
    "x = np.array([1, 2, 3]) \n",
    "y = x \n",
    "z = np.copy(x) \n",
    "x[0] = 10\n",
    "print(x)\n",
    "print(y)\n",
    "print(z)\n",
    "#### y is just a pointer to the array, while z is a shallow copy of the entire array object"
   ]
  },
  {
   "cell_type": "code",
   "execution_count": null,
   "metadata": {},
   "outputs": [],
   "source": [
    "a = np.array([1, 'm', [2, 3, 4]], dtype=object)\n",
    "c = a \n",
    "b = np.copy(a)\n",
    "print(b)\n",
    "print(\"*******\")\n",
    "b[2][0] = 10\n",
    "print(b)\n",
    "print(a)\n",
    "print(c)"
   ]
  },
  {
   "cell_type": "code",
   "execution_count": null,
   "metadata": {},
   "outputs": [],
   "source": [
    "import numpy as np\n",
    "\n",
    "x = np.array([1, 2, [\"ant\",'bee','cow']], dtype=object)\n",
    "z = np.copy(x)\n",
    "print(x),print(\"*\"*20)\n",
    "print(z),print(\"*\"*20)\n",
    "\n",
    "z[2][1] = 10\n",
    "\n",
    "print(x),print(\"*\"*20)\n",
    "print(z),print(\"*\"*20)\n",
    "\n",
    "z[0] = 12\n",
    "\n",
    "print(x),print(\"*\"*20)"
   ]
  },
  {
   "cell_type": "code",
   "execution_count": null,
   "metadata": {},
   "outputs": [],
   "source": [
    "a = np.array([1, 'm', [2, 3, 4]], dtype=object)\n",
    "\n",
    "b = np.copy(a)\n",
    "\n",
    "b[2][0] = 2\n",
    "\n",
    "print(a)\n",
    "print(b)"
   ]
  },
  {
   "attachments": {
    "image-2.png": {
     "image/png": "[encoded data removed]"
    },
    "image-3.png": {
     "image/png": "[encoded data removed]"
    },
    "image.png": {
     "image/png": "[encoded data removed]"
    }
   },
   "cell_type": "markdown",
   "metadata": {},
   "source": [
    "### Task 8.1 Basic Sorting\n",
    "\n",
    "(a)\tWrite Python code to sort the following 1-d array using the sort method\n",
    "\n",
    "```arr_1 = np.random.randint(100,200,10)```<br>\n",
    "Your output should be similar to that below.<br>\n",
    "![image.png](attachment:image.png)\n",
    "\n",
    "(b)\tWrite Python code to sort the following 2-d array by columns\n",
    "\n",
    "```arr_2 = np.random.randint(1,20,(3,5))```<br>\n",
    "Your output should be similar to that below.<br>\n",
    "![image-2.png](attachment:image-2.png)\n",
    "\n",
    "(c)\tWrite Python code to sort the following 2-d array by rows without affecting the original .\n",
    "\n",
    "```arr_3 = np.random.randint(100,200,(2,5))```<br>\n",
    "![image-3.png](attachment:image-3.png)"
   ]
  },
  {
   "cell_type": "code",
   "execution_count": null,
   "metadata": {},
   "outputs": [],
   "source": [
    "import numpy as np\n",
    "import copy\n",
    "# Task 8.1 (a)\n",
    "def sort_1d():\n",
    "    arr_1 = np.random.randint(100,200,10)\n",
    "    print(f\"8.1 (a) \\nBefore sorting arr_1:\\n{arr_1}\")\n",
    "\n",
    "    arr_1.sort()\n",
    "    print(f\"After sorting arr_1:\\n{arr_1}\")\n",
    "    print(\"*\"*20)\n",
    "\n",
    "# Task 8.1 (b)\n",
    "def sort_2d_byColumn():\n",
    "    arr_2 = np.random.randint(1,20,(3,5))\n",
    "    print(f\"8.1 (b) \\nBefore sorting arr_2:\\n{arr_2}\")\n",
    "    arr_2.sort()\n",
    "    print(f\"After sorting arr_2:\\n{arr_2}\")\n",
    "    print(\"*\"*20)\n",
    "\n",
    "# Task 8.1 (c)\n",
    "def sort_2d_copy():\n",
    "    arr_3 = np.random.randint(100,200,(2,5))\n",
    "    print(f\"8.1 (c) \\nBefore sorting arr_3:\\n{arr_3}\")\n",
    "    \n",
    "    #deep copy to ensure zero chance of the original array being affected\n",
    "    arr_3_copy = np.copy.deepcopy(arr_3)\n",
    "    \n",
    "    #sorts the copied array on the x axis\n",
    "    arr_3_copy.sort(axis=1)\n",
    "\n",
    "    print(f\"After calling sort method - original array:\\n{arr_3}\")\n",
    "    print(f\"After calling sort method - copy of sorted array:\\n{arr_3_copy}\")\n",
    "    print(\"*\"*20)\n",
    "\n",
    "sort_1d()\n",
    "sort_2d_byColumn()\n",
    "sort_2d_copy()"
   ]
  },
  {
   "cell_type": "markdown",
   "metadata": {},
   "source": [
    "### Task 9.1"
   ]
  },
  {
   "cell_type": "markdown",
   "metadata": {},
   "source": [
    "Task 1: Basic subsetting\n",
    "\n",
    "Given the following two Numpy arrays, answer the questions from (a) to (g) below.\n",
    "\n",
    "a = np.arange(1,100,1) <br>\n",
    "b = np.array([[1,2,3,4], [100,200,300,400],  [5,6,7,8],  [9,10,11,12] ])<br>\n",
    "\n",
    "(a)\tWhat is the output of a[3] and b[3]? What is the datatype of each output?<br><br>\n",
    "(b)\tWrite Python code to print out 2nd and third rows of the array b (ie [100,200,300,400] and [5,6,7,8]<br><br>\n",
    "(c)\tWrite Python code to print out all the rows of the last column of array b<br><br>\n",
    "(d)\tWrite Python code to print out row 2 (i.e.[ 100,200,300,400], first  and last columns of array b<br><br>\n",
    "(e)\tWrite Python code to print out row 3 to end, column 2 to end of the array b<br><br>\n",
    "(f)\tWrite Python code to print out elements from index 10 to 20 with step 2 from array a<br><br>\n",
    "(g)\tWrite Python code to select and reverse elements in array a from index 0 to the end, then print it out.<br><br>"
   ]
  },
  {
   "cell_type": "code",
   "execution_count": null,
   "metadata": {},
   "outputs": [],
   "source": [
    "import numpy as np\n",
    "a = np.arange(1,100,1)\n",
    "b = np.array([ [1,2,3,4],\n",
    "              [100,200,300,400],\n",
    "              [5,6,7,8],\n",
    "              [9,10,11,12] ])\n",
    "\n",
    "print(f'''\\n(d) ''')\n",
    "counter = 1\n",
    "for i in range(len(b) - 1):\n",
    "    print(b[counter])\n",
    "    counter -= 1"
   ]
  },
  {
   "cell_type": "code",
   "execution_count": null,
   "metadata": {},
   "outputs": [],
   "source": [
    "import numpy as np\n",
    "a = np.arange(1,100,1)\n",
    "b = np.array([ [1,2,3,4],\n",
    "              [100,200,300,400],\n",
    "              [5,6,7,8],\n",
    "              [9,10,11,12] ])\n",
    "\n",
    "print(f\"(a) output of a[3] and b[3]: \\n'{a[3]}', and '{b[3]}'\")\n",
    "print(len(b))\n",
    "print(f'''\\n(b) 2nd and 3rd rows of array b:\n",
    "{b[1]}\n",
    "{b[2]}''')\n",
    "\n",
    "print(f'''\\n(c) All the rows of the last column of array b: \n",
    "{b[:,3]}''')\n",
    "\n",
    "print(f'''\\n(e) {b[-1:3]}''')\n",
    "print(f'''\\n(f) {a[10:20:2]}''')\n",
    "print(f'''\\n(g) {np.flipud(a)}''')"
   ]
  },
  {
   "cell_type": "code",
   "execution_count": null,
   "metadata": {},
   "outputs": [],
   "source": []
  },
  {
   "cell_type": "markdown",
   "metadata": {},
   "source": [
    "### Task 9.2: Boolean indexing (SUBMISSION REQUIRED)\n",
    "\n",
    "Given the following Numpy array, answer the questions from (a) to (b) below.<br>\n",
    "\n",
    "a = ```np.array((np.arange(0,10),```<br>\n",
    "             ```np.arange(10,20),```<br>\n",
    "             ```np.arange(20,30),```<br>\n",
    "            ``` np.arange(30,40)))```<br>\n",
    "\n",
    "b = np.random.randint(100,200,(3,3))<br>\n",
    "\n",
    "(a)\tWrite Python code to return all the even numbers in array a <br>\n",
    "(b)\tWrite Python code to return all the numbers that are greater than 150 in array b<br>"
   ]
  },
  {
   "cell_type": "code",
   "execution_count": null,
   "metadata": {},
   "outputs": [],
   "source": [
    "import numpy as np\n",
    "\n",
    "#Initialise arrays\n",
    "a = np.array((np.arange(0,10),\n",
    "np.arange(10,20),\n",
    "np.arange(20,30),\n",
    "np.arange(30,40)))\n",
    "\n",
    "b = np.random.randint(100,200,(3,3))\n",
    "\n",
    "#answer for part a\n",
    "def returnEvenNumbers(a):\n",
    "    evenNumberIndex = a % 2 == 0 #gets index of values which are divisible by 2 (aka even)\n",
    "    evenNumbersInA = a[evenNumberIndex] #creates new array without modifying original array a\n",
    "    print(f\"Even numbers in the array are: \\n{evenNumbersInA}\")\n",
    "    \n",
    "#answer for part b\n",
    "def returnValuesOver150(b): \n",
    "    over150Index = np.greater(b, 150) #gets index of values which are larger than 150\n",
    "    over150Array = b[over150Index] #creates new array without modifying original array a\n",
    "    print(f\"Values over 150 are:\\n{over150Array}\")\n",
    "\n",
    "#Defining and calling a custom function is more extensible, even allows array name to be changed\n",
    "returnEvenNumbers(a)\n",
    "returnValuesOver150(b)\n"
   ]
  },
  {
   "attachments": {
    "image.png": {
     "image/png": "[encoded data removed]"
    }
   },
   "cell_type": "markdown",
   "metadata": {},
   "source": [
    "### Task 9.3: Indexing using WHERE\n",
    "\n",
    "Given the following Numpy array,  print out the values and the rows and indexes where the element is exactly 5.\n",
    "\n",
    "b = np.arange(9.).reshape(3, 3)<br>\n",
    "b5 = np.where( b > 5 )\n",
    "\n",
    "Your output should look similar to that below:\n",
    "![image.png](attachment:image.png)"
   ]
  },
  {
   "cell_type": "code",
   "execution_count": null,
   "metadata": {},
   "outputs": [],
   "source": [
    "b = np.arange(9.).reshape(3, 3)\n",
    "b5 = np.where(b > 5)\n",
    "#print(b)\n",
    "print(b5)\n",
    "print(len(b5[0]))\n",
    "print(\"*** Values of where the elements are, and their rows/columns***\")\n",
    "counter = 0\n",
    "for value in range(len(b5[0])): #Iterate for every number above 5 (only works for 2-d array)\n",
    "    #print(b5[values])\n",
    "    x = b5[0][value]\n",
    "    y = b5[1][value]\n",
    "    print(f\"Value: {b[x][y]} in row {x}, column {y}\")\n",
    "    #print(f\"Value: {b5[0][value]} and {b5[1][value]}\")\n",
    "    counter += 1"
   ]
  },
  {
   "cell_type": "markdown",
   "metadata": {},
   "source": [
    "### 10 Array Math\n",
    "#### Task 1: Add, subtract, multiply and divide numpy arrays\n",
    "\n",
    "Given the following Numpy arrays, answer the questions from (a) to (g) below.\n",
    "\n",
    "a = np.arange(100,200,1).reshape(20,5)  <br>\n",
    "b = np.arange(1,2000,20).reshape(10,10)  <br>\n",
    "c = np.array([ [1,2,3], [4,5,6]]) <br>\n",
    "\n",
    "(a)\tWhat happens when you try to perform the following operations on array a and array b?\n",
    "\n",
    "print(a+b)\n",
    "\n",
    "(b)\tCreate an array a2 that has the same shape as array a, containing random numbers between 0 and 100. <br>Print the contents of the resulting array when a and a2 are added together.\n",
    "\n",
    "(c)\tExtract a subset of array b into an array variable b1, such that you can perform a subtraction operation of (b1 – c) successfully. <br> Print out the resulting contents of the array of this operation.\n",
    "\n",
    "\n",
    "(d)\tCreate an array c2 such that c2 contains the values of array c multiplied by 10.\n"
   ]
  },
  {
   "cell_type": "code",
   "execution_count": null,
   "metadata": {},
   "outputs": [],
   "source": [
    "a = np.arange(100,200,1).reshape(20,5)\n",
    "b = np.arange(1,2000,20).reshape(10,10)\n",
    "c = np.array([ [1,2,3], [4,5,6]]) "
   ]
  },
  {
   "cell_type": "markdown",
   "metadata": {},
   "source": [
    "## Task 11 Statistical Methods\n",
    "\n",
    "### Task 1: sum, mean (SUBMISSION REQUIRED)\n",
    "\n",
    "```a = np.array((np.arange(0,10),np.arange(10,20),np.arange(20,30),np.arange(30,40)))```\n",
    "\n",
    "(a)\tWhat is the sum of all the numbers in array a? <br>\n",
    "(b)\tWhat is their mean? <br>\n",
    "(c)\tWhat is the sum of all the numbers in each row? <br>\n",
    "\n",
    "Using the Numpy statistical functions sum() and mean(), compute the information for array a as specified above.  Your output should resemble the screenshot shown below.\n"
   ]
  },
  {
   "cell_type": "code",
   "execution_count": null,
   "metadata": {},
   "outputs": [],
   "source": [
    "#Initialisation\n",
    "import numpy as np\n",
    "a = np.array((np.arange(0,10),\n",
    "             np.arange(10,20),\n",
    "             np.arange(20,30),\n",
    "             np.arange(30,40)))\n",
    "\n",
    "print(\"Contents of array a: \\n\", a)\n",
    "def sumOfAllNumbers(a):\n",
    "    print(f\"\\n*** Sum of all the numbers in array a: ***\\n{np.sum(a)} \")\n",
    "    #print(\"*\"*len(f\"Sum of all the numbers in array a: {np.sum(a)}\"))\n",
    "    \n",
    "def meanOfAllNumbers(a):\n",
    "    print(f\"\\n*** Mean of all the numbers in array a: ***\\n{np.mean(a)}\")\n",
    "    #print(\"*\"*len(f\"Mean of all the numbers in array a: {np.mean(a)}\"))\n",
    "\n",
    "def sumOfNumbersPerRow(a):\n",
    "    print(f\"\\n*** Sum of all the numbers in each row ***\")\n",
    "    counter = 1\n",
    "    sumPerRow = np.sum(a, axis=1)\n",
    "    for row in range(np.shape(a)[0]):\n",
    "        print(f\"Row {counter} sum = {sumPerRow[row]}\")\n",
    "        counter +=1\n",
    "        \n",
    "sumOfAllNumbers(a)\n",
    "meanOfAllNumbers(a)\n",
    "sumOfNumbersPerRow(a)"
   ]
  },
  {
   "attachments": {
    "image.png": {
     "image/png": "[encoded data removed]"
    }
   },
   "cell_type": "markdown",
   "metadata": {},
   "source": [
    "## Task 12.\tFile I/O on Numpy arrays\n",
    "\n",
    "### Task 12.1: Load a numpy array from a textfile (SUBMISSION REQUIRED)\n",
    "\n",
    "Complete the following code that uses the Numpy genfromtxt method to read the contents of an external csv file and display pertinent information about the data inside the file as shown on the following sample screen.\n",
    "\n",
    "![image.png](attachment:image.png)\n"
   ]
  },
  {
   "cell_type": "code",
   "execution_count": 29,
   "metadata": {},
   "outputs": [
    {
     "name": "stdout",
     "output_type": "stream",
     "text": [
      "There are altogether 855 rows in the data file data/singapore-residents-by-ethnic-group-and-sex-end-june-annual.csv\n",
      "\n",
      "There are 57 years of data captured from 1960 to 2016\n",
      "\n",
      "Year with the highest total number of residents: 2016\n",
      "Population Count: 3933559 \n",
      "\n",
      "Year with the lowest total number of residents: 1960\n",
      "Population Count: 1646400 \n",
      "\n"
     ]
    }
   ],
   "source": [
    "    import numpy as np\n",
    "\n",
    "    ### Read the csv file using genfromtxt\n",
    "    filename = \"data/singapore-residents-by-ethnic-group-and-sex-end-june-annual.csv\"\n",
    "    data = np.genfromtxt(filename, dtype=['i2', 'U50', 'i8'], delimiter=',', names=True)\n",
    "    #print(data)\n",
    "    #print(data.shape)\n",
    "\n",
    "    ### Print out total rows of data in the file\n",
    "    print(f'There are altogether {data.shape[0]} rows in the data file {filename}')\n",
    "    print()\n",
    "\n",
    "    ### Print out the number of years of data captured\n",
    "    data_years = data['year']\n",
    "    years = np.unique(data_years)\n",
    "    #print(years)\n",
    "    print(f'There are {years.size} years of data captured from {years[0]} to {years[-1]}')\n",
    "    print()\n",
    "\n",
    "    ## Extract only the rows with Total Residents\" - using boolean indexing\n",
    "    keyword = 'Total Residents'\n",
    "    data_totalresidents = data[data['level_1'] == keyword]\n",
    "    #print(data_totalresidents)\n",
    "\n",
    "    ### Print out the years which has the highest total number of residents \n",
    "    max_residents = data_totalresidents['value'].max()\n",
    "    argmax_residents = data_totalresidents['value'].argmax()\n",
    "\n",
    "    print(f\"Year with the highest total number of residents: {data_totalresidents[argmax_residents]['year']}\")\n",
    "    print(f'Population Count: {max_residents} ')\n",
    "    print()\n",
    "\n",
    "    ### Print out the years which has the lowest total number of residents\n",
    "    min_residents = data_totalresidents['value'].min()\n",
    "    argmin_residents = data_totalresidents['value'].argmin()\n",
    "    print(f\"Year with the lowest total number of residents: {data_totalresidents[argmin_residents]['year']}\")\n",
    "    print(f'Population Count: {min_residents} ')\n",
    "    print()\n"
   ]
  },
  {
   "cell_type": "code",
   "execution_count": null,
   "metadata": {},
   "outputs": [],
   "source": [
    "# Example Code\n",
    "\n",
    "import numpy as np\n",
    "\n",
    "### Read the csv file using genfromtxt\n",
    "filename = \"singapore-residents-by-ethnic-group-and-sex-end-june-annual.csv\"\n",
    "data = np.genfromtxt(filename, dtype=['i2', 'U50', 'i8'], delimiter=',', names=True)\n",
    "#print(data)\n",
    "\n",
    "### Print out total rows of data in the file\n",
    "print(f'There are altogether {_____} rows in the data file {______}')\n",
    "print()\n",
    "\n",
    "### Print out the number of years of data captured\n",
    "data_years = data['year']\n",
    "years = np.unique(data_years)\n",
    "print(f'There are {______} years of data captured from {_______} to {________}')\n",
    "print()\n",
    "\n",
    "## Extract only the rows with Total Residents\" - using boolean indexing\n",
    "keyword = 'Total Residents'\n",
    "data_totalresidents = data[data['level_1'] == keyword]\n",
    "#print(data_totalresidents)\n",
    "\n",
    "### Print out the years which has the highest total number of residents \n",
    "max_residents = data_totalresidents['value'].max()\n",
    "argmax_residents = data_totalresidents['value'].argmax()\n",
    "print(f\"Year with the highest total number of residents: { data_totalresidents[argmax]['year']}\")\n",
    "print(f'Population Count: { max_residents } ')\n",
    "print()\n",
    "\n",
    "### Print out the years which has the lowest total number of residents\n",
    "min_residents = _________________________\n",
    "argmin_residents = ______________________\n",
    "print(f'Year with the lowest total number of residents: {___________}')\n",
    "print(f'Population Count: { min_residents } ')\n",
    "print()\n"
   ]
  },
  {
   "cell_type": "code",
   "execution_count": null,
   "metadata": {},
   "outputs": [],
   "source": []
  }
 ],
 "metadata": {
  "kernelspec": {
   "display_name": "Python 3",
   "language": "python",
   "name": "python3"
  },
  "language_info": {
   "codemirror_mode": {
    "name": "ipython",
    "version": 3
   },
   "file_extension": ".py",
   "mimetype": "text/x-python",
   "name": "python",
   "nbconvert_exporter": "python",
   "pygments_lexer": "ipython3",
   "version": "3.8.5"
  }
 },
 "nbformat": 4,
 "nbformat_minor": 4
}
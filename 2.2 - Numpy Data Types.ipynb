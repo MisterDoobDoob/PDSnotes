{
 "cells": [
  {
   "cell_type": "markdown",
   "metadata": {},
   "source": [
    "## Numpy Data Types\n",
    "There's, like, a bajillion ways to hold data in an array, to better optimise for compute  \n",
    "Examples:\n",
    "\n",
    "    i - integer\n",
    "    b - boolean\n",
    "    u - unsigned integer\n",
    "    f - float\n",
    "    c - complex float\n",
    "    m - timedelta\n",
    "    M - datetime\n",
    "    O - object\n",
    "    S - string\n",
    "    U - unicode string\n",
    "    V - fixed chunk of memory for other type ( void )\n"
   ]
  },
  {
   "cell_type": "code",
   "execution_count": 6,
   "metadata": {},
   "outputs": [
    {
     "name": "stdout",
     "output_type": "stream",
     "text": [
      "[3]\n",
      "[3.14159265]\n",
      "[ True]\n",
      "[3.141592653589793]\n",
      "['3.141592653589793']\n"
     ]
    }
   ],
   "source": [
    "import numpy as np\n",
    "import math\n",
    "\n",
    "a = np.array([math.pi],dtype=np.int32)\n",
    "print(a)\n",
    "b = np.array([math.pi],dtype=np.float64)\n",
    "print(b)\n",
    "c = np.array([math.pi],dtype=np.bool)\n",
    "print(c)\n",
    "d = np.array([math.pi],dtype=np.object)\n",
    "print(d)\n",
    "e = np.array([math.pi],dtype=np.unicode)\n",
    "print(e)"
   ]
  }
 ],
 "metadata": {
  "kernelspec": {
   "display_name": "Python 3",
   "language": "python",
   "name": "python3"
  },
  "language_info": {
   "codemirror_mode": {
    "name": "ipython",
    "version": 3
   },
   "file_extension": ".py",
   "mimetype": "text/x-python",
   "name": "python",
   "nbconvert_exporter": "python",
   "pygments_lexer": "ipython3",
   "version": "3.8.5"
  }
 },
 "nbformat": 4,
 "nbformat_minor": 4
}
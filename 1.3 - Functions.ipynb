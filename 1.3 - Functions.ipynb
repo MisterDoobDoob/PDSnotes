{
 "cells": [
  {
   "cell_type": "code",
   "execution_count": null,
   "metadata": {},
   "outputs": [],
   "source": [
    "# Functions Introduction\n",
    "# A function is a reusable block of code which only runs when it is called.\n",
    "# define a function with def\n"
   ]
  },
  {
   "cell_type": "code",
   "execution_count": null,
   "metadata": {},
   "outputs": [],
   "source": [
    "def busyman():\n",
    "    print(\"\\n I'm preoccupied with something more important than you\")\n",
    "    print(\"\\nTalk later 💜xoxo\")\n",
    "\n",
    "a=\"\"\n",
    "while a != \"complete\":\n",
    "    person = input(\"Who are you? \")\n",
    "    if person != \"LHL\":\n",
    "        busyman()\n",
    "    else:\n",
    "        print(\"hello bbddy\")\n",
    "        a = \"complete\""
   ]
  },
  {
   "cell_type": "code",
   "execution_count": 12,
   "metadata": {},
   "outputs": [
    {
     "name": "stdout",
     "output_type": "stream",
     "text": [
      "Cannot cross now\n",
      "Can cross now\n",
      "Invalid light status. Check again, or consult a technician\n"
     ]
    }
   ],
   "source": [
    "def traffic_light(status): # accept one parameter, return one string\n",
    "    if status == 'red':\n",
    "        return \"Cannot cross now\"\n",
    "    elif status == 'green':\n",
    "        return \"Can cross now\"\n",
    "    elif status == 'flashing':\n",
    "        return \"Do hurry if you're already crossing\"\n",
    "    else:\n",
    "        return \"Invalid light status. Check again, or consult a technician\"\n",
    "    \n",
    "print(traffic_light(\"red\"))\n",
    "print(traffic_light(\"green\"))\n",
    "print(traffic_light(\"purple\"))"
   ]
  },
  {
   "cell_type": "code",
   "execution_count": null,
   "metadata": {},
   "outputs": [],
   "source": [
    "# Handling errors"
   ]
  },
  {
   "cell_type": "code",
   "execution_count": null,
   "metadata": {},
   "outputs": [],
   "source": []
  },
  {
   "cell_type": "code",
   "execution_count": null,
   "metadata": {},
   "outputs": [],
   "source": []
  },
  {
   "cell_type": "code",
   "execution_count": null,
   "metadata": {},
   "outputs": [],
   "source": []
  },
  {
   "cell_type": "code",
   "execution_count": null,
   "metadata": {},
   "outputs": [],
   "source": []
  },
  {
   "cell_type": "code",
   "execution_count": null,
   "metadata": {},
   "outputs": [],
   "source": [
    "completion = False\n",
    "\n",
    "def availability(time, completion):\n",
    "    if time == \"morning\":\n",
    "        print(\"I'm in my most productive state rn, but we can meet if it's urgent\")\n",
    "        return 'Day'\n",
    "        return completion = True\n",
    "    elif time == \"afternoon\":\n",
    "        print(\"I'm available! Let's Talk\")\n",
    "        completion = True\n",
    "        return 'Day'\n",
    "        return completion = True\n",
    "    elif time == \"evening\":\n",
    "        print(\"Unless we've made an appointment, let's meet tomorrow\")\n",
    "        completion = True\n",
    "        return 'Night'\n",
    "    else:\n",
    "        print(\"Invalid input, please try again\")\n",
    "        completion = False\n",
    "        \n",
    "while completion != True:\n",
    "    print(\"Possible Times:\")\n",
    "    print(\"1.Morning \\n2.Afternoon CCA\\n3.Evening\")\n",
    "    time = input(\"Pick a time: \")\n",
    "    availability(time, completion)\n",
    "    "
   ]
  }
 ],
 "metadata": {
  "kernelspec": {
   "display_name": "Python 3",
   "language": "python",
   "name": "python3"
  },
  "language_info": {
   "codemirror_mode": {
    "name": "ipython",
    "version": 3
   },
   "file_extension": ".py",
   "mimetype": "text/x-python",
   "name": "python",
   "nbconvert_exporter": "python",
   "pygments_lexer": "ipython3",
   "version": "3.8.5"
  }
 },
 "nbformat": 4,
 "nbformat_minor": 4
}

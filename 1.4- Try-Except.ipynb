{
 "cells": [
  {
   "cell_type": "markdown",
   "metadata": {},
   "source": [
    "It's good to handle exceptions!\n",
    "Let's see why below."
   ]
  },
  {
   "cell_type": "code",
   "execution_count": null,
   "metadata": {},
   "outputs": [],
   "source": [
    "# Intentional Error:\n",
    "print(\"enter a none-integer below (for example, 'one', or 'wqeqwe' )\")\n",
    "a = int(input(\"Enter a number: \"))"
   ]
  },
  {
   "cell_type": "markdown",
   "metadata": {},
   "source": [
    "Yikes. That's not good. \n",
    "A user would not be able to understand what went wrong, and they can't even try again!\n",
    "\n",
    "This time, we'll try to \"trap\" the error. In the code below, we've included an exception to handle an invalid value. This is a more understandable error message, so the user knows what to correct."
   ]
  },
  {
   "cell_type": "code",
   "execution_count": 3,
   "metadata": {},
   "outputs": [
    {
     "name": "stdout",
     "output_type": "stream",
     "text": [
      "enter a number: q\n",
      "Only enter in numeric form, please.\n",
      "          For example, '1', or '2'\n"
     ]
    }
   ],
   "source": [
    "# trap the error!\n",
    "try:\n",
    "    a = int(input(\"enter a number: \"))\n",
    "except ValueError:\n",
    "    print(\"\"\"Only enter in numeric form, please.\n",
    "          For example, '1', or '2'\"\"\")"
   ]
  },
  {
   "cell_type": "code",
   "execution_count": null,
   "metadata": {},
   "outputs": [],
   "source": []
  }
 ],
 "metadata": {
  "kernelspec": {
   "display_name": "Python 3",
   "language": "python",
   "name": "python3"
  },
  "language_info": {
   "codemirror_mode": {
    "name": "ipython",
    "version": 3
   },
   "file_extension": ".py",
   "mimetype": "text/x-python",
   "name": "python",
   "nbconvert_exporter": "python",
   "pygments_lexer": "ipython3",
   "version": "3.8.5"
  }
 },
 "nbformat": 4,
 "nbformat_minor": 4
}

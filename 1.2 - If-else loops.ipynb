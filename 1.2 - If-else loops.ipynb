{
 "cells": [
  {
   "cell_type": "code",
   "execution_count": 6,
   "metadata": {},
   "outputs": [
    {
     "name": "stdout",
     "output_type": "stream",
     "text": [
      "Enter number 1:2\n",
      "Enter number 2:3\n",
      "The two numbers are not the same\n"
     ]
    }
   ],
   "source": [
    "#check if two numbers are the same\n",
    "\n",
    "input_1 = int(input(\"Enter number 1:\"))\n",
    "input_2 = int(input(\"Enter number 2:\"))\n",
    "\n",
    "if input_1==input_2:\n",
    "   print(\"The two numbers are the same\")\n",
    "else:\n",
    "   print(\"The two numbers are not the same\")\n"
   ]
  },
  {
   "cell_type": "code",
   "execution_count": null,
   "metadata": {},
   "outputs": [],
   "source": [
    "#addl conditional checks\n",
    "\n",
    "input_1 = input(\"Enter number 1:\")\n",
    "input_2 = input(\"Enter number 2:\")\n",
    "\n",
    "if input_1.isnumeric() and input_2.isnumeric() :\n",
    "    num_1 = int(input_1)\n",
    "    num_2 = int(input_2)\n",
    "    sum = num_1 + num_2\n",
    "    print(\"The sum of {} and {} is {}\".format(num_1,num_2,sum))\n",
    "\n",
    "else:\n",
    "   print(\"Please enter numeric values only\")\n"
   ]
  },
  {
   "cell_type": "code",
   "execution_count": 4,
   "metadata": {},
   "outputs": [
    {
     "name": "stdout",
     "output_type": "stream",
     "text": [
      "Are you going to school? (Y/N) - N\n",
      "5\n"
     ]
    }
   ],
   "source": [
    "#nested  if-else \n",
    "ans = input (\"Are you going to school? (Y/N) - \")\n",
    "if ans.upper() == 'Y':\n",
    "    cca = input (\"Staying back for CCA (Y/N)? - \")\n",
    "    if cca.upper() == \"Y\":\n",
    "        pocketmoney = 20\n",
    "    else:\n",
    "        pocketmoney = 20 + 8\n",
    "        \n",
    "else:\n",
    "    if ans.upper() == \"N\":\n",
    "        pocketmoney = 5\n",
    "    else:\n",
    "        pocketmoney = \"wrong answer\"\n",
    "\n",
    "print(pocketmoney)"
   ]
  },
  {
   "cell_type": "code",
   "execution_count": 8,
   "metadata": {},
   "outputs": [
    {
     "name": "stdout",
     "output_type": "stream",
     "text": [
      "Are you going to school? (Y/N) - print(\"Below is our drinks menu:\") print(\"1.Coke   2.Coffee   3.Juice\") drink = int(input(\"Enter your choice of drink:\"))  if drink==1:    print(\"Coke is $1.00\") elif drink==2:    print(\"Coffee is $0.50\") elif drink==3:    print(\"Juice is $2.00\") else:    print(\"Sorry, you have entered an invalid choice\")\n",
      "wrong answer\n"
     ]
    }
   ],
   "source": [
    "#cell above is not very explicit in input, (What about non y/n answer in \"staying back for cca\")\n",
    "ans = input (\"Are you going to school? (Y/N) - \")\n",
    "if ans.upper() == 'Y':\n",
    "    cca = input (\"Staying back for CCA (Y/N)? - \")\n",
    "    if cca.upper() == \"Y\":\n",
    "        pocketmoney = 20\n",
    "    elif cca.upper() == \"N\":\n",
    "        pocketmoney = 20 + 8\n",
    "        \n",
    "else:\n",
    "    if ans.upper() == \"N\":\n",
    "        pocketmoney = 5\n",
    "    else:\n",
    "        pocketmoney = \"wrong answer\"\n",
    "\n",
    "print(pocketmoney)"
   ]
  },
  {
   "cell_type": "code",
   "execution_count": null,
   "metadata": {},
   "outputs": [],
   "source": [
    "print(\"Possible plans?:\")\n",
    "print(\"1.School without CCA \\n2.School without CCA\\n3.No school\")\n",
    "ans = int(input(\"What's the plan for today?:\"))\n",
    "\n",
    "if ans==1:\n",
    "    pocketmoney = 20 + 8\n",
    "elif ans==2:\n",
    "    pocketmoney = 20\n",
    "elif ans==3:\n",
    "    pocketmoney = 5\n",
    "else:\n",
    "    pocketmoney = 0\n",
    "    \n",
    "print(f\"Today, you will receive {pocketmoney}\")"
   ]
  },
  {
   "cell_type": "code",
   "execution_count": 1,
   "metadata": {},
   "outputs": [
    {
     "name": "stdout",
     "output_type": "stream",
     "text": [
      "Enter your choice (1-2): q\n",
      "Are you a staff (Y/N)? q\n",
      "You did not enter a valid input\n"
     ]
    },
    {
     "ename": "NameError",
     "evalue": "name 'price' is not defined",
     "output_type": "error",
     "traceback": [
      "\u001b[1;31m---------------------------------------------------------------------------\u001b[0m",
      "\u001b[1;31mNameError\u001b[0m                                 Traceback (most recent call last)",
      "\u001b[1;32m<ipython-input-1-28dbedd46ff0>\u001b[0m in \u001b[0;36m<module>\u001b[1;34m\u001b[0m\n\u001b[0;32m     16\u001b[0m    \u001b[1;31m#exit()\u001b[0m\u001b[1;33m\u001b[0m\u001b[1;33m\u001b[0m\u001b[1;33m\u001b[0m\u001b[0m\n\u001b[0;32m     17\u001b[0m \u001b[1;33m\u001b[0m\u001b[0m\n\u001b[1;32m---> 18\u001b[1;33m \u001b[0mprint\u001b[0m\u001b[1;33m(\u001b[0m\u001b[1;34m\"Price is ${}\"\u001b[0m\u001b[1;33m.\u001b[0m\u001b[0mformat\u001b[0m\u001b[1;33m(\u001b[0m\u001b[0mprice\u001b[0m\u001b[1;33m)\u001b[0m\u001b[1;33m)\u001b[0m\u001b[1;33m\u001b[0m\u001b[1;33m\u001b[0m\u001b[0m\n\u001b[0m",
      "\u001b[1;31mNameError\u001b[0m: name 'price' is not defined"
     ]
    }
   ],
   "source": [
    "number = input(\"Enter your choice (1-2): \")\n",
    "staff = input(\"Are you a staff (Y/N)? \")\n",
    "\n",
    "if number==\"1\":\n",
    "   if staff.upper() == \"Y\":\n",
    "        price = 5*0.9\n",
    "   else:\n",
    "        price = 5*0.95\n",
    "elif number==\"2\":\n",
    "    if staff.upper() == \"Y\":\n",
    "        price = 10*0.8\n",
    "    else:\n",
    "        price = 10\n",
    "else:\n",
    "   print(\"You did not enter a valid input\")\n",
    "   #exit()   \n",
    "\n",
    "print(\"Price is ${}\".format(price))"
   ]
  },
  {
   "cell_type": "code",
   "execution_count": 2,
   "metadata": {},
   "outputs": [
    {
     "name": "stdout",
     "output_type": "stream",
     "text": [
      "Enter your choice (1-2): 1\n",
      "Are you a staff (Y/N)? 1\n"
     ]
    }
   ],
   "source": [
    "number = input(\"Enter your choice (1-2): \")\n",
    "staff = input(\"Are you a staff (Y/N)? \") \n",
    "\n",
    "if st\n"
   ]
  },
  {
   "cell_type": "code",
   "execution_count": null,
   "metadata": {},
   "outputs": [],
   "source": []
  }
 ],
 "metadata": {
  "kernelspec": {
   "display_name": "Python 3",
   "language": "python",
   "name": "python3"
  },
  "language_info": {
   "codemirror_mode": {
    "name": "ipython",
    "version": 3
   },
   "file_extension": ".py",
   "mimetype": "text/x-python",
   "name": "python",
   "nbconvert_exporter": "python",
   "pygments_lexer": "ipython3",
   "version": "3.8.5"
  }
 },
 "nbformat": 4,
 "nbformat_minor": 4
}

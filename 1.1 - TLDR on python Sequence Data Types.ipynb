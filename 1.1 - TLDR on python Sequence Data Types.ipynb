{
 "cells": [
  {
   "cell_type": "code",
   "execution_count": 2,
   "metadata": {},
   "outputs": [],
   "source": [
    "# There are three ways to store sequential data types\n",
    "# 1: List\n",
    "# 2: Tuples\n",
    "# 3: Dictionary"
   ]
  },
  {
   "cell_type": "code",
   "execution_count": 3,
   "metadata": {},
   "outputs": [
    {
     "ename": "SyntaxError",
     "evalue": "unexpected EOF while parsing (<ipython-input-3-beaa8a097a2d>, line 6)",
     "output_type": "error",
     "traceback": [
      "\u001b[1;36m  File \u001b[1;32m\"<ipython-input-3-beaa8a097a2d>\"\u001b[1;36m, line \u001b[1;32m6\u001b[0m\n\u001b[1;33m    for i in insects:\u001b[0m\n\u001b[1;37m                     ^\u001b[0m\n\u001b[1;31mSyntaxError\u001b[0m\u001b[1;31m:\u001b[0m unexpected EOF while parsing\n"
     ]
    }
   ],
   "source": [
    "insects = ['ant', 'bee', 'cricket', 'dragon fly']\n",
    "print (insects[1])\n",
    "print (insects[-3:-1])\n",
    "\n",
    "# iterate through a list \n",
    "for i in insects:"
   ]
  },
  {
   "cell_type": "code",
   "execution_count": 20,
   "metadata": {},
   "outputs": [
    {
     "name": "stdout",
     "output_type": "stream",
     "text": [
      "['ant', 'bee', 'cricket', 'dragon fly']\n",
      "['bee', 'cricket']\n",
      "ant\n",
      "bee\n",
      "cricket\n",
      "dragon fly\n",
      "-----\n",
      "cricket\n",
      "dragon fly\n",
      "-----\n",
      "['ant', 'bee', 'cricket', 'dragon fly', 'mantis']\n",
      "-----\n",
      "['Cockroach', 'ant', 'bee', 'cricket', 'dragon fly', 'mantis']\n",
      "-----\n",
      "['rockroach', 'ant', 'bee', 'cricket', 'dragon fly', 'mantis']\n",
      "-----\n",
      "['rockroach', 'ant', 'bee', 'cricket', 'dragon fly']\n"
     ]
    }
   ],
   "source": [
    "# Methods to update lists\n",
    "# Append, insert, pop\n",
    "insects = ['ant', 'bee', 'cricket', 'dragon fly']\n",
    "print (insects[0:4])\n",
    "print (insects[-3:-1])\n",
    "\n",
    "# iterate through a list \n",
    "for i in insects:\n",
    "    print (i)\n",
    "    \n",
    "print('-' * 5)\n",
    "\n",
    "for i in range(2,4):\n",
    "    print(insects[i])\n",
    "    \n",
    "print('-' * 5)\n",
    "\n",
    "insects.append('mantis') #adds new item at the back\n",
    "print(insects)\n",
    "print('-' * 5)\n",
    "\n",
    "\n",
    "insects.insert(0, \"Cockroach\") #adds item at whatever section you declare (in this case, at the front)\n",
    "print(insects)\n",
    "print('-' * 5)\n",
    "\n",
    "insects[0] = \"rockroach\" #updates/replaces the value at index 0\n",
    "print(insects)\n",
    "print('-' * 5)\n",
    "\n",
    "insects.pop() #removes last entry \n",
    "print(insects)"
   ]
  },
  {
   "cell_type": "code",
   "execution_count": 14,
   "metadata": {},
   "outputs": [
    {
     "name": "stdout",
     "output_type": "stream",
     "text": [
      "[50, 20, 30, 10, 100, 40, 200, 300, 65, 80]\n",
      "\n",
      "['apple', 'orange', 'pear', 'apple', 'orange', 'pear']\n",
      "\n"
     ]
    }
   ],
   "source": []
  },
  {
   "cell_type": "code",
   "execution_count": 21,
   "metadata": {},
   "outputs": [
    {
     "name": "stdout",
     "output_type": "stream",
     "text": [
      "['ant', 'bee', 'cat', 'dog']\n",
      "['ant', 'bee', 'cat', 'dog', 'ant', 'bee', 'cat', 'dog', 'ant', 'bee', 'cat', 'dog']\n"
     ]
    }
   ],
   "source": [
    "# operations on lists\n",
    "# \n",
    "# + and * operators also work on lists!\n",
    "insects = ['ant', 'bee']\n",
    "mammals = ['cat', 'dog']\n",
    "animals = insects + mammals\n",
    "print(animals)\n",
    "print(animals * 3)"
   ]
  },
  {
   "cell_type": "code",
   "execution_count": 16,
   "metadata": {},
   "outputs": [
    {
     "name": "stdout",
     "output_type": "stream",
     "text": [
      "['ant', 'bee', 'spider']\n",
      "['dog', 'cat']\n"
     ]
    }
   ],
   "source": [
    "#List methods\n",
    "\n",
    "insects = ['ant', 'bee']\n",
    "mammals = ['cat', 'dog']\n",
    "insects.extend(['spider'])\n",
    "print (insects)\n",
    "mammals.reverse()\n",
    "print (mammals)"
   ]
  },
  {
   "cell_type": "code",
   "execution_count": 2,
   "metadata": {},
   "outputs": [],
   "source": [
    "#Functions in Lists\n"
   ]
  },
  {
   "cell_type": "code",
   "execution_count": 10,
   "metadata": {},
   "outputs": [],
   "source": [
    "# Tuples #\n",
    "# Like a list, but immutable (cannot change)\n",
    "# uses () to store data, unlike list， which uses []\n",
    "# important when you want to ensure data cannot be modified"
   ]
  },
  {
   "cell_type": "code",
   "execution_count": 19,
   "metadata": {},
   "outputs": [
    {
     "name": "stdout",
     "output_type": "stream",
     "text": [
      "7\n",
      "(6, 7, 1)\n",
      "(5, 6, 7, 1)\n",
      "(4, 5, 6, 7, 1)\n",
      "(4, 5, 6, 7, 1)\n",
      "(4, 5, 6, 7, 1)\n",
      "(1,)\n"
     ]
    }
   ],
   "source": [
    "# Tuple Example\n",
    "mytup = (4, 5, 6, 7, 1)\n",
    "print(mytup[3])\n",
    "print(mytup[-3:])\n",
    "\n",
    "for i in mytup:\n",
    "    print(i)\n",
    "    "
   ]
  },
  {
   "cell_type": "code",
   "execution_count": 31,
   "metadata": {},
   "outputs": [],
   "source": [
    "# Dictionary #\n",
    "# Like a list, it's modifiable, \n",
    "# BUT we store values based on a key/value system, instead of  an index\n",
    "# Stored in curly brackets {}\n",
    "# All keys must be unique"
   ]
  },
  {
   "cell_type": "code",
   "execution_count": 29,
   "metadata": {},
   "outputs": [
    {
     "name": "stdout",
     "output_type": "stream",
     "text": [
      "{999: ('Poopoo', 'Null'), 91239872: ('Mother', 'F'), 91254129: ('HuiShan', 'F'), 81294712: ('Amberlyn', 'F')}\n"
     ]
    }
   ],
   "source": [
    "# Dictionary Example\n",
    "phonebook = {999: ('Poopoo', 'Null')} # Key: 999 Value: Poopoo\n",
    "phonebook[91239872] = 'Mother', 'F'\n",
    "phonebook[91254129] = 'HuiShan', 'F'\n",
    "phonebook[81294712] = 'Amberlyn', 'F'\n",
    "print(phonebook)"
   ]
  },
  {
   "cell_type": "code",
   "execution_count": 48,
   "metadata": {},
   "outputs": [
    {
     "name": "stdout",
     "output_type": "stream",
     "text": [
      "{999: ('Poopoo', 'patriotic'), 6591239872: ('Father', 'Male'), 6591254129: ('HuiShan', 'Female'), 6581294712: ('Amberlyn', 'Female')}\n",
      "*****\n",
      "*****\n",
      "Poopoo's (999) gender is allegedly patriotic\n",
      "Father's (6591239872) gender is allegedly Male\n",
      "HuiShan's (6591254129) gender is allegedly Female\n",
      "Amberlyn's (6581294712) gender is allegedly Female\n"
     ]
    }
   ],
   "source": [
    "# Iterating through a Dictionary\n",
    "phonebook = {\n",
    "    999: ('Poopoo', 'patriotic'),\n",
    "    6591239872: ('Father', 'Male'), \n",
    "    6591254129: ('HuiShan', 'Female'), \n",
    "    6581294712: ('Amberlyn', 'Female')\n",
    "}\n",
    "print(phonebook)\n",
    "print('*' * 5)\n",
    "\n",
    "#for phone_Number in phonebook:\n",
    "#    print(f\"Phone number is {phone_Number}\")\n",
    "#    print(phonebook[phone_Number])\n",
    "print('*' * 5)\n",
    "\n",
    "for phone_Number, contact_Details in phonebook.items():\n",
    "    #print all contact details\n",
    "    #print(f\"Contact details are {contact_Details}\") \n",
    "    \n",
    "    #print name, phone number, then gender\n",
    "    print(f\"{contact_Details[0]}'s ({phone_Number}) gender is allegedly {contact_Details[1]}\") "
   ]
  }
 ],
 "metadata": {
  "kernelspec": {
   "display_name": "Python 3",
   "language": "python",
   "name": "python3"
  },
  "language_info": {
   "codemirror_mode": {
    "name": "ipython",
    "version": 3
   },
   "file_extension": ".py",
   "mimetype": "text/x-python",
   "name": "python",
   "nbconvert_exporter": "python",
   "pygments_lexer": "ipython3",
   "version": "3.8.5"
  }
 },
 "nbformat": 4,
 "nbformat_minor": 4
}
